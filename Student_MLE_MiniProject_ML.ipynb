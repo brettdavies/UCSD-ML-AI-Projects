{
  "cells": [
    {
      "cell_type": "markdown",
      "metadata": {
        "id": "view-in-github",
        "colab_type": "text"
      },
      "source": [
        "<a href=\"https://colab.research.google.com/github/brettdavies/UCSD-ML-AI-Projects/blob/main/Student_MLE_MiniProject_ML.ipynb\" target=\"_parent\"><img src=\"https://colab.research.google.com/assets/colab-badge.svg\" alt=\"Open In Colab\"/></a>"
      ]
    },
    {
      "cell_type": "markdown",
      "metadata": {
        "id": "Yzr5Eo_qxHQi"
      },
      "source": [
        "# Mini Project: Build a Machine Learning Model"
      ]
    },
    {
      "cell_type": "markdown",
      "metadata": {
        "id": "_NvUsqw8xg26"
      },
      "source": [
        "## Predict Total Fare on the NYC Taxi Dataset\n",
        "\n",
        "Welcome to the NYC Taxi Fare Prediction project! In this Colab, we will continue using the NYC Taxi Dataset to predict the fare amount for taxi rides using a subset of available features. We will go through three main stages: building a baseline model, creating a full model, and performing hyperparameter tuning to enhance our predictions.\n",
        "\n",
        "Now that you've completed exploratory data analysis on this dataset you should have a good understanding of the feature space.\n",
        "\n",
        "## Project Objectives\n",
        "\n",
        "The primary objectives of this project are as follows:\n",
        "\n",
        "Baseline Model: We will start by building a simple baseline model to establish a benchmark for our predictions. This model will serve as a starting point to compare the performance of our subsequent models.\n",
        "\n",
        "Full Model: Next, we will develop a more comprehensive model that leverages machine learning techniques to improve prediction accuracy. We will use Scikit-Learn's model pipeline to build a framework that enables rapid experimentation.\n",
        "\n",
        "Hyperparameter Tuning: Lastly, we will optimize our full model by fine-tuning its hyperparameters. By systematically adjusting the parameters that control model behavior, we aim to achieve the best possible performance for our prediction task."
      ]
    },
    {
      "cell_type": "code",
      "execution_count": 25,
      "metadata": {
        "id": "lbJFWLELlI6N"
      },
      "outputs": [],
      "source": [
        "import pandas as pd\n",
        "import numpy as np\n",
        "import matplotlib.pyplot as plt\n",
        "from sklearn.model_selection import train_test_split, GridSearchCV\n",
        "from sklearn.metrics import mean_absolute_error\n",
        "\n",
        "from sklearn.pipeline import Pipeline\n",
        "from sklearn.preprocessing import StandardScaler, OneHotEncoder, FunctionTransformer\n",
        "from sklearn.compose import ColumnTransformer\n",
        "from sklearn.linear_model import LinearRegression\n",
        "from sklearn.ensemble import RandomForestRegressor"
      ]
    },
    {
      "cell_type": "markdown",
      "metadata": {
        "id": "gJtGZwwG2WTW"
      },
      "source": [
        "Load the NYC taxi dataset into a Pandas DataFrame and do a few basic checks to ensure the data is loaded properly. Note, there are several months of data that can be used. For simplicity, use the Yellow Taxi 2022-01 parquet file [here](https://d37ci6vzurychx.cloudfront.net/trip-data/yellow_tripdata_2022-01.parquet). Here are your tasks:\n",
        "\n",
        "  1. Load the `yellow_tripdata_2022-01.parquet` file into Pandas.\n",
        "  2. Print the first 5 rows of data.\n",
        "  3. Drop any rows of data that contain NULL values.\n",
        "  4. Create a new feature, 'trip_duration' that captures the duration of the trip in minutes.\n",
        "  5. Create a varible named 'target_variable' to store the name of the thing we're trying to predict, 'total_amount'.\n",
        "  6. Create a list called 'feature_cols' containing the feature names that we'll be using to predict our target variable. The list should contain 'VendorID', 'trip_distance', 'payment_type', 'PULocationID', 'DOLocationID', and 'trip_duration'."
      ]
    },
    {
      "cell_type": "code",
      "execution_count": 26,
      "metadata": {
        "id": "db--eb8zlNNg"
      },
      "outputs": [],
      "source": [
        "# Load the dataset into a pandas DataFrame (from https://www.nyc.gov/site/tlc/about/tlc-trip-record-data.page)\n",
        "df = pd.read_parquet(\"https://d37ci6vzurychx.cloudfront.net/trip-data/yellow_tripdata_2022-01.parquet\")"
      ]
    },
    {
      "cell_type": "code",
      "execution_count": 27,
      "metadata": {
        "id": "TslBuHoXl_o1",
        "outputId": "ab404444-a4e0-4524-e523-034caa1e80aa",
        "colab": {
          "base_uri": "https://localhost:8080/"
        }
      },
      "outputs": [
        {
          "output_type": "stream",
          "name": "stdout",
          "text": [
            "   VendorID tpep_pickup_datetime tpep_dropoff_datetime  passenger_count  \\\n",
            "0         1  2022-01-01 00:35:40   2022-01-01 00:53:29              2.0   \n",
            "1         1  2022-01-01 00:33:43   2022-01-01 00:42:07              1.0   \n",
            "2         2  2022-01-01 00:53:21   2022-01-01 01:02:19              1.0   \n",
            "3         2  2022-01-01 00:25:21   2022-01-01 00:35:23              1.0   \n",
            "4         2  2022-01-01 00:36:48   2022-01-01 01:14:20              1.0   \n",
            "\n",
            "   trip_distance  RatecodeID store_and_fwd_flag  PULocationID  DOLocationID  \\\n",
            "0           3.80         1.0                  N           142           236   \n",
            "1           2.10         1.0                  N           236            42   \n",
            "2           0.97         1.0                  N           166           166   \n",
            "3           1.09         1.0                  N           114            68   \n",
            "4           4.30         1.0                  N            68           163   \n",
            "\n",
            "   payment_type  fare_amount  extra  mta_tax  tip_amount  tolls_amount  \\\n",
            "0             1         14.5    3.0      0.5        3.65           0.0   \n",
            "1             1          8.0    0.5      0.5        4.00           0.0   \n",
            "2             1          7.5    0.5      0.5        1.76           0.0   \n",
            "3             2          8.0    0.5      0.5        0.00           0.0   \n",
            "4             1         23.5    0.5      0.5        3.00           0.0   \n",
            "\n",
            "   improvement_surcharge  total_amount  congestion_surcharge  airport_fee  \n",
            "0                    0.3         21.95                   2.5          0.0  \n",
            "1                    0.3         13.30                   0.0          0.0  \n",
            "2                    0.3         10.56                   0.0          0.0  \n",
            "3                    0.3         11.80                   2.5          0.0  \n",
            "4                    0.3         30.30                   2.5          0.0  \n"
          ]
        }
      ],
      "source": [
        "# Display the first few rows of the dataset\n",
        "print(df.head())"
      ]
    },
    {
      "cell_type": "code",
      "execution_count": 28,
      "metadata": {
        "id": "4ybS7HV6HHQL"
      },
      "outputs": [],
      "source": [
        "# Drop rows with missing values.\n",
        "# print(df.isnull().any())\n",
        "df = df.dropna(how='any')\n",
        "# print(df.isnull().any())"
      ]
    },
    {
      "cell_type": "code",
      "execution_count": 36,
      "metadata": {
        "id": "ZC4p9PEjnSm8"
      },
      "outputs": [],
      "source": [
        "# Create new feature, 'trip_duration'.\n",
        "df.loc[:,['trip_duration']] = (df['tpep_dropoff_datetime'] - df['tpep_pickup_datetime']) / pd.Timedelta(minutes=1)"
      ]
    },
    {
      "cell_type": "code",
      "execution_count": 37,
      "metadata": {
        "id": "R5d84tINrG9d"
      },
      "outputs": [],
      "source": [
        "# Create a list called feature_col to store column names\n",
        "feature_col = ['VendorID', 'trip_distance', 'payment_type', 'PULocationID', 'DOLocationID', 'trip_duration']"
      ]
    },
    {
      "cell_type": "markdown",
      "metadata": {
        "id": "eq2kgevn51LY"
      },
      "source": [
        "Splitting a dataset into training and test sets is a crucial step in machine learning model development. It allows us to evaluate the performance and generalization ability of our models accurately. The training set is used to train the model, while the test set serves as an independent sample for evaluating its performance.\n",
        "\n",
        "1. **Model Training**: The training set is used to fit the model, allowing it to learn the underlying patterns and relationships between the features and the target variable. By exposing the model to a diverse range of examples in the training set, it can capture the underlying structure of the data.\n",
        "\n",
        "2. **Model Evaluation**: The test set, which is independent of the training set, is crucial for evaluating how well the trained model generalizes to unseen data. It provides an unbiased assessment of the model's performance on new instances. By measuring the model's accuracy, precision, recall, or other evaluation metrics on the test set, we can estimate how well the model will perform on unseen data.\n",
        "\n",
        "3. **Preventing Overfitting**: Overfitting occurs when a model learns the training data's noise and idiosyncrasies instead of the underlying patterns. By evaluating the model on the test set, we can identify if the model is overfitting. If the model performs significantly worse on the test set compared to the training set, it indicates overfitting. In such cases, we might need to adjust the model, feature selection, or regularization techniques to improve generalization.\n",
        "\n",
        "4. **Hyperparameter Tuning**: Splitting the dataset allows us to perform hyperparameter tuning on the model. Hyperparameters are configuration settings that control the learning process, such as learning rate, regularization strength, or the number of hidden layers in a neural network. By using a validation set (often created from a portion of the training set), we can iteratively adjust the hyperparameters and select the best combination that maximizes the model's performance on the validation set. The final evaluation on the test set provides an unbiased estimate of the model's performance.\n",
        "\n",
        "By splitting the dataset into training and test sets, we can ensure that our models are both well-trained and accurately evaluated. This separation helps us understand how the model will perform on new, unseen data, which is critical for assessing its effectiveness and making informed decisions about its deployment.\n",
        "\n",
        "Here is your task:\n",
        "\n",
        "  1. Use Scikit-Learn's [train_test_split](https://scikit-learn.org/stable/modules/generated/sklearn.model_selection.train_test_split.html) to split the data into training and test sets. Don't forget to set the random state."
      ]
    },
    {
      "cell_type": "code",
      "execution_count": 38,
      "metadata": {
        "id": "grdbA-I6rMGC"
      },
      "outputs": [],
      "source": [
        "# Split dataset into training and test sets\n",
        "X = df[feature_col]\n",
        "y = df['total_amount']\n",
        "X_train, X_test, y_train, y_test = train_test_split(X, y, test_size=0.10, random_state=1)"
      ]
    },
    {
      "cell_type": "markdown",
      "metadata": {
        "id": "VIAhf_oA7PGx"
      },
      "source": [
        "The importance of a baseline model, even if it uses a simple strategy like always predicting the mean, cannot be understated. Here's why a baseline model is valuable:\n",
        "\n",
        "1. **Performance Comparison**: A baseline model serves as a reference point for evaluating the performance of more sophisticated models. By establishing a simple yet reasonable baseline, we can determine whether our advanced models offer any significant improvement over this basic approach. It helps us set realistic expectations and gauge the effectiveness of our efforts.\n",
        "\n",
        "2. **Model Complexity**: A baseline model provides insight into the complexity required to solve the prediction task. If a simple strategy like predicting the median performs reasonably well, it suggests that the problem might not necessitate complex modeling techniques. Conversely, if the baseline model performs poorly, it indicates the presence of more intricate patterns that need to be captured by more sophisticated models.\n",
        "\n",
        "3. **Minimum Performance Requirement**: A baseline model can establish a minimum performance requirement for a predictive task. If we cannot outperform the baseline, it suggests that our models have failed to capture even the most fundamental relationships within the data. In such cases, we may need to revisit our data preprocessing steps, feature engineering techniques, or consider other external factors affecting the task.\n",
        "\n",
        "4. **Identifying Data Issues**: A baseline model can help identify potential issues within the dataset. If the baseline model performs poorly, it may indicate problems like missing values, outliers, or data inconsistencies. These issues can be further investigated and resolved to improve the overall model performance.\n",
        "\n",
        "While a baseline model like always predicting the median may not offer the highest prediction accuracy, its importance lies in its role as a starting point for model development and evaluation. It provides a solid foundation for comparing and assessing the performance of more complex models, ensuring that any improvements made are meaningful and significant.\n",
        "\n",
        "Here is your task:\n",
        "\n",
        "  1. Create a model that always predicts the mean total fare of the training dataset. Use Scikit-Learn's [mean_absolute_error](https://scikit-learn.org/stable/modules/generated/sklearn.metrics.mean_absolute_error.html) to evaluate this model. Is it any good?"
      ]
    },
    {
      "cell_type": "code",
      "execution_count": 39,
      "metadata": {
        "id": "6vV1UsNTFX22",
        "outputId": "de15691a-c230-4389-8596-ff2a98dd14c4",
        "colab": {
          "base_uri": "https://localhost:8080/"
        }
      },
      "outputs": [
        {
          "output_type": "execute_result",
          "data": {
            "text/plain": [
              "9.188385414064182"
            ]
          },
          "metadata": {},
          "execution_count": 39
        }
      ],
      "source": [
        "# Create a baseline for mean absolute error of total amount\n",
        "y_pred = [np.mean(y_train)] * len(y_test)\n",
        "mean_absolute_error(y_test, y_pred)"
      ]
    },
    {
      "cell_type": "markdown",
      "metadata": {
        "id": "sCKDGKpg8MVb"
      },
      "source": [
        "With a baseline metric in place, we can try to build a machine learning model. Obviously, if the model can't beat the baseline then there are some major issues to be resolved.\n",
        "\n",
        "It's always a good idea to start with a simple machine learning model, like linear regression, and build upon it if necessary.\n",
        "\n",
        "Here are your tasks:\n",
        "\n",
        "  1. Use Scikit-Learn's [ColumnTransformer](https://scikit-learn.org/stable/modules/generated/sklearn.compose.ColumnTransformer.html) to preprocess the categorical and continuous features independently. Apply the [StandardScaler](https://scikit-learn.org/stable/modules/generated/sklearn.preprocessing.StandardScaler.html) to the continuous columns and [OneHotEncoder](https://scikit-learn.org/stable/modules/generated/sklearn.preprocessing.OneHotEncoder.html) to the categorical columns.\n",
        "\n",
        "  One-hot encoding is a popular technique used to represent categorical variables numerically in machine learning models. It transforms categorical features into a binary vector representation, where each category is represented by a binary column. Here's an explanation of one-hot encoding:\n",
        "\n",
        "  When working with categorical variables, such as colors (e.g., red, blue, green) or vehicle types (e.g., car, truck, motorcycle), machine learning algorithms often require numerical inputs. However, directly assigning numerical values to categories can introduce unintended relationships or orderings between them. For example, assigning the values 0, 1, and 2 to the categories red, blue, and green may imply a sequential relationship, which is not desired.\n",
        "\n",
        "  One-hot encoding solves this problem by creating new binary columns, equal to the number of unique categories in the original feature. Each binary column represents a specific category and takes a value of 1 if the data point belongs to that category, and 0 otherwise. This encoding ensures that no implicit ordering or relationship exists between the categories.\n",
        "\n",
        "  2. Integrate the preprocessor in the previous step with Scikit-Learn's [LinearRegression](https://scikit-learn.org/stable/modules/generated/sklearn.linear_model.LinearRegression.html) model using a [Pipeline](https://scikit-learn.org/stable/modules/generated/sklearn.pipeline.Pipeline.html).\n",
        "\n",
        "  3. Train the pipeline on the training data.\n",
        "\n",
        "  4. Evaluate the model using mean absolute error as a metric on the test data. Does the model beat the baseline?\n"
      ]
    },
    {
      "cell_type": "code",
      "source": [
        "# Use Scikit-Learn's ColumnTransformer to preprocess the categorical and\n",
        "# continuous features independently.\n",
        "ct = ColumnTransformer([('cat_preprocess', OneHotEncoder(handle_unknown='ignore'), ['VendorID', 'payment_type', 'PULocationID', 'DOLocationID']),\n",
        "                        ('cont_preprocess', StandardScaler(), ['trip_distance', 'trip_duration']),])"
      ],
      "metadata": {
        "id": "KckTWwsiah5p"
      },
      "execution_count": 40,
      "outputs": []
    },
    {
      "cell_type": "code",
      "execution_count": 41,
      "metadata": {
        "id": "yVzxrDu6w506"
      },
      "outputs": [],
      "source": [
        "# Create a pipeline object containing the column transformations and regression\n",
        "# model.\n",
        "pipe = Pipeline([('transformer', ct),('linear', LinearRegression())])"
      ]
    },
    {
      "cell_type": "code",
      "source": [
        "# Fit the pipeline on the training data.\n",
        "pipe.fit(X_train, y_train)"
      ],
      "metadata": {
        "id": "7Dhli3fkalIS",
        "outputId": "72735c5b-f7ef-493e-82ca-794c991e9201",
        "colab": {
          "base_uri": "https://localhost:8080/",
          "height": 192
        }
      },
      "execution_count": 42,
      "outputs": [
        {
          "output_type": "execute_result",
          "data": {
            "text/plain": [
              "Pipeline(steps=[('transformer',\n",
              "                 ColumnTransformer(transformers=[('cat_preprocess',\n",
              "                                                  OneHotEncoder(handle_unknown='ignore'),\n",
              "                                                  ['VendorID', 'payment_type',\n",
              "                                                   'PULocationID',\n",
              "                                                   'DOLocationID']),\n",
              "                                                 ('cont_preprocess',\n",
              "                                                  StandardScaler(),\n",
              "                                                  ['trip_distance',\n",
              "                                                   'trip_duration'])])),\n",
              "                ('linear', LinearRegression())])"
            ],
            "text/html": [
              "<style>#sk-container-id-1 {color: black;background-color: white;}#sk-container-id-1 pre{padding: 0;}#sk-container-id-1 div.sk-toggleable {background-color: white;}#sk-container-id-1 label.sk-toggleable__label {cursor: pointer;display: block;width: 100%;margin-bottom: 0;padding: 0.3em;box-sizing: border-box;text-align: center;}#sk-container-id-1 label.sk-toggleable__label-arrow:before {content: \"▸\";float: left;margin-right: 0.25em;color: #696969;}#sk-container-id-1 label.sk-toggleable__label-arrow:hover:before {color: black;}#sk-container-id-1 div.sk-estimator:hover label.sk-toggleable__label-arrow:before {color: black;}#sk-container-id-1 div.sk-toggleable__content {max-height: 0;max-width: 0;overflow: hidden;text-align: left;background-color: #f0f8ff;}#sk-container-id-1 div.sk-toggleable__content pre {margin: 0.2em;color: black;border-radius: 0.25em;background-color: #f0f8ff;}#sk-container-id-1 input.sk-toggleable__control:checked~div.sk-toggleable__content {max-height: 200px;max-width: 100%;overflow: auto;}#sk-container-id-1 input.sk-toggleable__control:checked~label.sk-toggleable__label-arrow:before {content: \"▾\";}#sk-container-id-1 div.sk-estimator input.sk-toggleable__control:checked~label.sk-toggleable__label {background-color: #d4ebff;}#sk-container-id-1 div.sk-label input.sk-toggleable__control:checked~label.sk-toggleable__label {background-color: #d4ebff;}#sk-container-id-1 input.sk-hidden--visually {border: 0;clip: rect(1px 1px 1px 1px);clip: rect(1px, 1px, 1px, 1px);height: 1px;margin: -1px;overflow: hidden;padding: 0;position: absolute;width: 1px;}#sk-container-id-1 div.sk-estimator {font-family: monospace;background-color: #f0f8ff;border: 1px dotted black;border-radius: 0.25em;box-sizing: border-box;margin-bottom: 0.5em;}#sk-container-id-1 div.sk-estimator:hover {background-color: #d4ebff;}#sk-container-id-1 div.sk-parallel-item::after {content: \"\";width: 100%;border-bottom: 1px solid gray;flex-grow: 1;}#sk-container-id-1 div.sk-label:hover label.sk-toggleable__label {background-color: #d4ebff;}#sk-container-id-1 div.sk-serial::before {content: \"\";position: absolute;border-left: 1px solid gray;box-sizing: border-box;top: 0;bottom: 0;left: 50%;z-index: 0;}#sk-container-id-1 div.sk-serial {display: flex;flex-direction: column;align-items: center;background-color: white;padding-right: 0.2em;padding-left: 0.2em;position: relative;}#sk-container-id-1 div.sk-item {position: relative;z-index: 1;}#sk-container-id-1 div.sk-parallel {display: flex;align-items: stretch;justify-content: center;background-color: white;position: relative;}#sk-container-id-1 div.sk-item::before, #sk-container-id-1 div.sk-parallel-item::before {content: \"\";position: absolute;border-left: 1px solid gray;box-sizing: border-box;top: 0;bottom: 0;left: 50%;z-index: -1;}#sk-container-id-1 div.sk-parallel-item {display: flex;flex-direction: column;z-index: 1;position: relative;background-color: white;}#sk-container-id-1 div.sk-parallel-item:first-child::after {align-self: flex-end;width: 50%;}#sk-container-id-1 div.sk-parallel-item:last-child::after {align-self: flex-start;width: 50%;}#sk-container-id-1 div.sk-parallel-item:only-child::after {width: 0;}#sk-container-id-1 div.sk-dashed-wrapped {border: 1px dashed gray;margin: 0 0.4em 0.5em 0.4em;box-sizing: border-box;padding-bottom: 0.4em;background-color: white;}#sk-container-id-1 div.sk-label label {font-family: monospace;font-weight: bold;display: inline-block;line-height: 1.2em;}#sk-container-id-1 div.sk-label-container {text-align: center;}#sk-container-id-1 div.sk-container {/* jupyter's `normalize.less` sets `[hidden] { display: none; }` but bootstrap.min.css set `[hidden] { display: none !important; }` so we also need the `!important` here to be able to override the default hidden behavior on the sphinx rendered scikit-learn.org. See: https://github.com/scikit-learn/scikit-learn/issues/21755 */display: inline-block !important;position: relative;}#sk-container-id-1 div.sk-text-repr-fallback {display: none;}</style><div id=\"sk-container-id-1\" class=\"sk-top-container\"><div class=\"sk-text-repr-fallback\"><pre>Pipeline(steps=[(&#x27;transformer&#x27;,\n",
              "                 ColumnTransformer(transformers=[(&#x27;cat_preprocess&#x27;,\n",
              "                                                  OneHotEncoder(handle_unknown=&#x27;ignore&#x27;),\n",
              "                                                  [&#x27;VendorID&#x27;, &#x27;payment_type&#x27;,\n",
              "                                                   &#x27;PULocationID&#x27;,\n",
              "                                                   &#x27;DOLocationID&#x27;]),\n",
              "                                                 (&#x27;cont_preprocess&#x27;,\n",
              "                                                  StandardScaler(),\n",
              "                                                  [&#x27;trip_distance&#x27;,\n",
              "                                                   &#x27;trip_duration&#x27;])])),\n",
              "                (&#x27;linear&#x27;, LinearRegression())])</pre><b>In a Jupyter environment, please rerun this cell to show the HTML representation or trust the notebook. <br />On GitHub, the HTML representation is unable to render, please try loading this page with nbviewer.org.</b></div><div class=\"sk-container\" hidden><div class=\"sk-item sk-dashed-wrapped\"><div class=\"sk-label-container\"><div class=\"sk-label sk-toggleable\"><input class=\"sk-toggleable__control sk-hidden--visually\" id=\"sk-estimator-id-1\" type=\"checkbox\" ><label for=\"sk-estimator-id-1\" class=\"sk-toggleable__label sk-toggleable__label-arrow\">Pipeline</label><div class=\"sk-toggleable__content\"><pre>Pipeline(steps=[(&#x27;transformer&#x27;,\n",
              "                 ColumnTransformer(transformers=[(&#x27;cat_preprocess&#x27;,\n",
              "                                                  OneHotEncoder(handle_unknown=&#x27;ignore&#x27;),\n",
              "                                                  [&#x27;VendorID&#x27;, &#x27;payment_type&#x27;,\n",
              "                                                   &#x27;PULocationID&#x27;,\n",
              "                                                   &#x27;DOLocationID&#x27;]),\n",
              "                                                 (&#x27;cont_preprocess&#x27;,\n",
              "                                                  StandardScaler(),\n",
              "                                                  [&#x27;trip_distance&#x27;,\n",
              "                                                   &#x27;trip_duration&#x27;])])),\n",
              "                (&#x27;linear&#x27;, LinearRegression())])</pre></div></div></div><div class=\"sk-serial\"><div class=\"sk-item sk-dashed-wrapped\"><div class=\"sk-label-container\"><div class=\"sk-label sk-toggleable\"><input class=\"sk-toggleable__control sk-hidden--visually\" id=\"sk-estimator-id-2\" type=\"checkbox\" ><label for=\"sk-estimator-id-2\" class=\"sk-toggleable__label sk-toggleable__label-arrow\">transformer: ColumnTransformer</label><div class=\"sk-toggleable__content\"><pre>ColumnTransformer(transformers=[(&#x27;cat_preprocess&#x27;,\n",
              "                                 OneHotEncoder(handle_unknown=&#x27;ignore&#x27;),\n",
              "                                 [&#x27;VendorID&#x27;, &#x27;payment_type&#x27;, &#x27;PULocationID&#x27;,\n",
              "                                  &#x27;DOLocationID&#x27;]),\n",
              "                                (&#x27;cont_preprocess&#x27;, StandardScaler(),\n",
              "                                 [&#x27;trip_distance&#x27;, &#x27;trip_duration&#x27;])])</pre></div></div></div><div class=\"sk-parallel\"><div class=\"sk-parallel-item\"><div class=\"sk-item\"><div class=\"sk-label-container\"><div class=\"sk-label sk-toggleable\"><input class=\"sk-toggleable__control sk-hidden--visually\" id=\"sk-estimator-id-3\" type=\"checkbox\" ><label for=\"sk-estimator-id-3\" class=\"sk-toggleable__label sk-toggleable__label-arrow\">cat_preprocess</label><div class=\"sk-toggleable__content\"><pre>[&#x27;VendorID&#x27;, &#x27;payment_type&#x27;, &#x27;PULocationID&#x27;, &#x27;DOLocationID&#x27;]</pre></div></div></div><div class=\"sk-serial\"><div class=\"sk-item\"><div class=\"sk-estimator sk-toggleable\"><input class=\"sk-toggleable__control sk-hidden--visually\" id=\"sk-estimator-id-4\" type=\"checkbox\" ><label for=\"sk-estimator-id-4\" class=\"sk-toggleable__label sk-toggleable__label-arrow\">OneHotEncoder</label><div class=\"sk-toggleable__content\"><pre>OneHotEncoder(handle_unknown=&#x27;ignore&#x27;)</pre></div></div></div></div></div></div><div class=\"sk-parallel-item\"><div class=\"sk-item\"><div class=\"sk-label-container\"><div class=\"sk-label sk-toggleable\"><input class=\"sk-toggleable__control sk-hidden--visually\" id=\"sk-estimator-id-5\" type=\"checkbox\" ><label for=\"sk-estimator-id-5\" class=\"sk-toggleable__label sk-toggleable__label-arrow\">cont_preprocess</label><div class=\"sk-toggleable__content\"><pre>[&#x27;trip_distance&#x27;, &#x27;trip_duration&#x27;]</pre></div></div></div><div class=\"sk-serial\"><div class=\"sk-item\"><div class=\"sk-estimator sk-toggleable\"><input class=\"sk-toggleable__control sk-hidden--visually\" id=\"sk-estimator-id-6\" type=\"checkbox\" ><label for=\"sk-estimator-id-6\" class=\"sk-toggleable__label sk-toggleable__label-arrow\">StandardScaler</label><div class=\"sk-toggleable__content\"><pre>StandardScaler()</pre></div></div></div></div></div></div></div></div><div class=\"sk-item\"><div class=\"sk-estimator sk-toggleable\"><input class=\"sk-toggleable__control sk-hidden--visually\" id=\"sk-estimator-id-7\" type=\"checkbox\" ><label for=\"sk-estimator-id-7\" class=\"sk-toggleable__label sk-toggleable__label-arrow\">LinearRegression</label><div class=\"sk-toggleable__content\"><pre>LinearRegression()</pre></div></div></div></div></div></div></div>"
            ]
          },
          "metadata": {},
          "execution_count": 42
        }
      ]
    },
    {
      "cell_type": "code",
      "source": [
        "# Make predictions on the test data.\n",
        "y_pred = pipe.predict(X_test)\n",
        "mean_absolute_error(y_test, y_pred)"
      ],
      "metadata": {
        "id": "mUkcHyJpamxC",
        "outputId": "fc32a72e-3b4d-40b8-a3b8-dd8df752596c",
        "colab": {
          "base_uri": "https://localhost:8080/"
        }
      },
      "execution_count": 44,
      "outputs": [
        {
          "output_type": "execute_result",
          "data": {
            "text/plain": [
              "3.3247101824826553"
            ]
          },
          "metadata": {},
          "execution_count": 44
        }
      ]
    },
    {
      "cell_type": "markdown",
      "metadata": {
        "id": "d1669p0UBHrx"
      },
      "source": [
        "Random Forest Regression and Linear Regression are two commonly used regression algorithms, each with its own advantages and suitability for different scenarios. Random Forest Regression offers several advantages over Linear Regression, including:\n",
        "\n",
        "1. **Non-linearity**: Random Forest Regressor is capable of capturing non-linear relationships between features and the target variable. In contrast, Linear Regression assumes a linear relationship between the features and the target. When faced with non-linear relationships or complex feature interactions, Random Forest Regressor can provide more accurate predictions.\n",
        "\n",
        "2. **Robustness to Outliers**: Random Forest Regressor is generally more robust to outliers compared to Linear Regression. Outliers can disproportionately impact the coefficients and predictions of Linear Regression models. However, as an ensemble of decision trees, Random Forest Regressor can mitigate the effect of outliers by averaging predictions from multiple trees.\n",
        "\n",
        "3. **Feature Importance**: Random Forest Regressor provides a measure of feature importance, which helps identify the most influential features for making predictions. This information is useful for feature selection, understanding the underlying relationships in the data, and gaining insights into the problem domain. Unlike Linear Regression, which provides coefficient values indicating the direction and magnitude of relationships, Random Forest Regressor explicitly highlights feature importance.\n",
        "\n",
        "4. **Handling of Categorical Variables**: Random Forest Regressor can effectively handle categorical variables without requiring pre-processing steps like one-hot encoding. It can directly incorporate categorical variables into the model, making it more convenient when working with mixed data types. In contrast, Linear Regression often requires categorical variables to be encoded or transformed before use.\n",
        "\n",
        "5. **Handling of High-Dimensional Data**: Random Forest Regressor can handle datasets with a large number of features (high dimensionality) by automatically selecting subsets of features during the construction of individual decision trees. This reduces the risk of overfitting, which is a concern with Linear Regression when dealing with high-dimensional data.\n",
        "\n",
        "6. **Resistance to Multicollinearity**: Random Forest Regressor is less affected by multicollinearity, which occurs when predictor variables are highly correlated. In Linear Regression, highly correlated features can lead to unstable coefficient estimates, making it challenging to interpret the individual effects of each feature. Random Forest Regressor, as an ensemble approach, is less impacted by multicollinearity because each tree is built independently.\n",
        "\n",
        "Here are your tasks:\n",
        "\n",
        "  1. Build a Random Forest Regressor model using Scikit-Learn's [RandomForestRegressor](https://scikit-learn.org/stable/modules/generated/sklearn.ensemble.RandomForestRegressor.html) and train it on the train data.\n",
        "\n",
        "  2. Evaluate the performance of the model on the test data using mean absolute error as a metric. Mess around with various input parameter configurations to see how they affect the model. Can you beat the performance of the linear regression model?"
      ]
    },
    {
      "cell_type": "code",
      "execution_count": 49,
      "metadata": {
        "id": "QU4tTQKl4q_n",
        "outputId": "3f0bca5e-89ab-4dd1-ab22-63209f095ab4",
        "colab": {
          "base_uri": "https://localhost:8080/",
          "height": 75
        }
      },
      "outputs": [
        {
          "output_type": "execute_result",
          "data": {
            "text/plain": [
              "RandomForestRegressor(max_depth=3, n_estimators=8, random_state=1)"
            ],
            "text/html": [
              "<style>#sk-container-id-3 {color: black;background-color: white;}#sk-container-id-3 pre{padding: 0;}#sk-container-id-3 div.sk-toggleable {background-color: white;}#sk-container-id-3 label.sk-toggleable__label {cursor: pointer;display: block;width: 100%;margin-bottom: 0;padding: 0.3em;box-sizing: border-box;text-align: center;}#sk-container-id-3 label.sk-toggleable__label-arrow:before {content: \"▸\";float: left;margin-right: 0.25em;color: #696969;}#sk-container-id-3 label.sk-toggleable__label-arrow:hover:before {color: black;}#sk-container-id-3 div.sk-estimator:hover label.sk-toggleable__label-arrow:before {color: black;}#sk-container-id-3 div.sk-toggleable__content {max-height: 0;max-width: 0;overflow: hidden;text-align: left;background-color: #f0f8ff;}#sk-container-id-3 div.sk-toggleable__content pre {margin: 0.2em;color: black;border-radius: 0.25em;background-color: #f0f8ff;}#sk-container-id-3 input.sk-toggleable__control:checked~div.sk-toggleable__content {max-height: 200px;max-width: 100%;overflow: auto;}#sk-container-id-3 input.sk-toggleable__control:checked~label.sk-toggleable__label-arrow:before {content: \"▾\";}#sk-container-id-3 div.sk-estimator input.sk-toggleable__control:checked~label.sk-toggleable__label {background-color: #d4ebff;}#sk-container-id-3 div.sk-label input.sk-toggleable__control:checked~label.sk-toggleable__label {background-color: #d4ebff;}#sk-container-id-3 input.sk-hidden--visually {border: 0;clip: rect(1px 1px 1px 1px);clip: rect(1px, 1px, 1px, 1px);height: 1px;margin: -1px;overflow: hidden;padding: 0;position: absolute;width: 1px;}#sk-container-id-3 div.sk-estimator {font-family: monospace;background-color: #f0f8ff;border: 1px dotted black;border-radius: 0.25em;box-sizing: border-box;margin-bottom: 0.5em;}#sk-container-id-3 div.sk-estimator:hover {background-color: #d4ebff;}#sk-container-id-3 div.sk-parallel-item::after {content: \"\";width: 100%;border-bottom: 1px solid gray;flex-grow: 1;}#sk-container-id-3 div.sk-label:hover label.sk-toggleable__label {background-color: #d4ebff;}#sk-container-id-3 div.sk-serial::before {content: \"\";position: absolute;border-left: 1px solid gray;box-sizing: border-box;top: 0;bottom: 0;left: 50%;z-index: 0;}#sk-container-id-3 div.sk-serial {display: flex;flex-direction: column;align-items: center;background-color: white;padding-right: 0.2em;padding-left: 0.2em;position: relative;}#sk-container-id-3 div.sk-item {position: relative;z-index: 1;}#sk-container-id-3 div.sk-parallel {display: flex;align-items: stretch;justify-content: center;background-color: white;position: relative;}#sk-container-id-3 div.sk-item::before, #sk-container-id-3 div.sk-parallel-item::before {content: \"\";position: absolute;border-left: 1px solid gray;box-sizing: border-box;top: 0;bottom: 0;left: 50%;z-index: -1;}#sk-container-id-3 div.sk-parallel-item {display: flex;flex-direction: column;z-index: 1;position: relative;background-color: white;}#sk-container-id-3 div.sk-parallel-item:first-child::after {align-self: flex-end;width: 50%;}#sk-container-id-3 div.sk-parallel-item:last-child::after {align-self: flex-start;width: 50%;}#sk-container-id-3 div.sk-parallel-item:only-child::after {width: 0;}#sk-container-id-3 div.sk-dashed-wrapped {border: 1px dashed gray;margin: 0 0.4em 0.5em 0.4em;box-sizing: border-box;padding-bottom: 0.4em;background-color: white;}#sk-container-id-3 div.sk-label label {font-family: monospace;font-weight: bold;display: inline-block;line-height: 1.2em;}#sk-container-id-3 div.sk-label-container {text-align: center;}#sk-container-id-3 div.sk-container {/* jupyter's `normalize.less` sets `[hidden] { display: none; }` but bootstrap.min.css set `[hidden] { display: none !important; }` so we also need the `!important` here to be able to override the default hidden behavior on the sphinx rendered scikit-learn.org. See: https://github.com/scikit-learn/scikit-learn/issues/21755 */display: inline-block !important;position: relative;}#sk-container-id-3 div.sk-text-repr-fallback {display: none;}</style><div id=\"sk-container-id-3\" class=\"sk-top-container\"><div class=\"sk-text-repr-fallback\"><pre>RandomForestRegressor(max_depth=3, n_estimators=8, random_state=1)</pre><b>In a Jupyter environment, please rerun this cell to show the HTML representation or trust the notebook. <br />On GitHub, the HTML representation is unable to render, please try loading this page with nbviewer.org.</b></div><div class=\"sk-container\" hidden><div class=\"sk-item\"><div class=\"sk-estimator sk-toggleable\"><input class=\"sk-toggleable__control sk-hidden--visually\" id=\"sk-estimator-id-9\" type=\"checkbox\" checked><label for=\"sk-estimator-id-9\" class=\"sk-toggleable__label sk-toggleable__label-arrow\">RandomForestRegressor</label><div class=\"sk-toggleable__content\"><pre>RandomForestRegressor(max_depth=3, n_estimators=8, random_state=1)</pre></div></div></div></div></div>"
            ]
          },
          "metadata": {},
          "execution_count": 49
        }
      ],
      "source": [
        "# Build random forest regressor model\n",
        "rf = RandomForestRegressor(max_depth=3, n_estimators=8, random_state=1)\n",
        "rf.fit(X_train, y_train)"
      ]
    },
    {
      "cell_type": "code",
      "execution_count": 50,
      "metadata": {
        "id": "P6SIX9EK5RYi",
        "outputId": "b9d107aa-7e87-403b-e21d-f157151b4421",
        "colab": {
          "base_uri": "https://localhost:8080/"
        }
      },
      "outputs": [
        {
          "output_type": "execute_result",
          "data": {
            "text/plain": [
              "3.221732338019101"
            ]
          },
          "metadata": {},
          "execution_count": 50
        }
      ],
      "source": [
        "# Make predictions on the test data\n",
        "y_pred = rf.predict(X_test)\n",
        "mean_absolute_error(y_test, y_pred)"
      ]
    },
    {
      "cell_type": "markdown",
      "metadata": {
        "id": "5CuYk9WBFF2X"
      },
      "source": [
        "Hyperparameter tuning plays a critical role in machine learning model development. It involves selecting the optimal values for the hyperparameters, which are configuration settings that control the behavior of the learning algorithm. Here's why hyperparameter tuning is so important in ML:\n",
        "\n",
        "1. **Optimizing Model Performance**: The choice of hyperparameters can significantly impact the model's performance. By fine-tuning the hyperparameters, we can improve the model's accuracy, precision, recall, or other performance metrics. It helps to extract the maximum predictive power from the chosen algorithm and ensures that the model is well-suited to the specific problem at hand.\n",
        "\n",
        "2. **Avoiding Overfitting and Underfitting**: Hyperparameter tuning helps strike a balance between overfitting and underfitting.\n",
        "\n",
        "3. **Exploring Model Complexity**: Hyperparameter tuning enables us to explore the complexity of the model. For instance, in algorithms like decision trees or neural networks, we can adjust the number of layers, the number of neurons, or the maximum depth of the tree. By systematically modifying these hyperparameters, we can understand how different levels of complexity impact the model's performance and find the right balance between simplicity and complexity.\n",
        "\n",
        "Note, there are multiple approaches to hyperparemeter tuning.  \n",
        "\n",
        "While grid search is the easiest to understand and implement there are many advantages of Bayesian search over grid search for hyperparameter tuning:\n",
        "\n",
        "1. **Efficiency**: Bayesian search is generally more efficient than grid search. Grid search explores all possible combinations of hyperparameter values, which can be computationally expensive and time-consuming, especially when dealing with a large number of hyperparameters or a wide range of values. Bayesian search, on the other hand, intelligently selects the next hyperparameter configuration to evaluate based on the results of previous evaluations. It focuses on areas of the hyperparameter space that are more likely to yield better performance, reducing the number of evaluations needed.\n",
        "\n",
        "2. **Flexibility**: Bayesian search is flexible in handling continuous and discrete hyperparameters. It can handle both types of hyperparameters naturally and effectively. In contrast, grid search is more suitable for discrete hyperparameters but may struggle with continuous ones, as it requires discretization or defining a finite set of values to search over.\n",
        "\n",
        "3. **Adaptive Search**: Bayesian search adapts its search strategy based on the results of previous evaluations. It maintains a probability distribution over the hyperparameter space, updating it with each evaluation. This allows it to dynamically allocate more evaluations to promising regions and explore unexplored areas. In contrast, grid search follows a fixed and predefined search grid, regardless of the results of previous evaluations.\n",
        "\n",
        "4. **Better Convergence**: Bayesian search has the potential to converge to the optimal hyperparameter configuration more quickly.\n",
        "\n",
        "Here are your tasks:\n",
        "\n",
        "  1. Perform a grid-search on a Random Forest Regressor model. Only search the space for the parameters 'n_estimators', 'max_depth', and 'min_samples_split'. Note, this can take some time to run. Make sure you set reasonable boundaries for the search space. Use Scikit-Learn's [GridSearchCV](https://scikit-learn.org/stable/modules/generated/sklearn.model_selection.GridSearchCV.html) method.\n",
        "\n",
        "  2. After you've identified the best parameters, train a random forest regression model using these parameters on the full training data.\n",
        "\n",
        "  3. Evaluate the model from the previous step using the test data. How does your model perform?"
      ]
    },
    {
      "cell_type": "code",
      "source": [
        "# Define the hyperparameters to tune.\n",
        "params = {'n_estimators': [1, 5, 10, 15], 'max_depth': [1, 2, 3, 4, 5, 6], 'min_samples_split': [2, 3, 4]}"
      ],
      "metadata": {
        "id": "HlmZeNDOa1zs"
      },
      "execution_count": 51,
      "outputs": []
    },
    {
      "cell_type": "code",
      "execution_count": 53,
      "metadata": {
        "colab": {
          "base_uri": "https://localhost:8080/",
          "height": 1000
        },
        "id": "NWaMWOH6Kdho",
        "outputId": "c572aa96-b382-43b3-e5d3-f6e3e94925aa"
      },
      "outputs": [
        {
          "output_type": "stream",
          "name": "stdout",
          "text": [
            "Fitting 5 folds for each of 72 candidates, totalling 360 fits\n",
            "[CV 1/5] END max_depth=1, min_samples_split=1, n_estimators=1;, score=(train=nan, test=nan) total time=   0.1s\n",
            "[CV 2/5] END max_depth=1, min_samples_split=1, n_estimators=1;, score=(train=nan, test=nan) total time=   0.1s\n",
            "[CV 3/5] END max_depth=1, min_samples_split=1, n_estimators=1;, score=(train=nan, test=nan) total time=   0.1s\n",
            "[CV 4/5] END max_depth=1, min_samples_split=1, n_estimators=1;, score=(train=nan, test=nan) total time=   0.1s\n",
            "[CV 5/5] END max_depth=1, min_samples_split=1, n_estimators=1;, score=(train=nan, test=nan) total time=   0.1s\n",
            "[CV 1/5] END max_depth=1, min_samples_split=1, n_estimators=5;, score=(train=nan, test=nan) total time=   0.1s\n",
            "[CV 2/5] END max_depth=1, min_samples_split=1, n_estimators=5;, score=(train=nan, test=nan) total time=   0.1s\n",
            "[CV 3/5] END max_depth=1, min_samples_split=1, n_estimators=5;, score=(train=nan, test=nan) total time=   0.1s\n",
            "[CV 4/5] END max_depth=1, min_samples_split=1, n_estimators=5;, score=(train=nan, test=nan) total time=   0.1s\n",
            "[CV 5/5] END max_depth=1, min_samples_split=1, n_estimators=5;, score=(train=nan, test=nan) total time=   0.1s\n",
            "[CV 1/5] END max_depth=1, min_samples_split=1, n_estimators=10;, score=(train=nan, test=nan) total time=   0.1s\n",
            "[CV 2/5] END max_depth=1, min_samples_split=1, n_estimators=10;, score=(train=nan, test=nan) total time=   0.1s\n",
            "[CV 3/5] END max_depth=1, min_samples_split=1, n_estimators=10;, score=(train=nan, test=nan) total time=   0.1s\n",
            "[CV 4/5] END max_depth=1, min_samples_split=1, n_estimators=10;, score=(train=nan, test=nan) total time=   0.1s\n",
            "[CV 5/5] END max_depth=1, min_samples_split=1, n_estimators=10;, score=(train=nan, test=nan) total time=   0.1s\n",
            "[CV 1/5] END max_depth=1, min_samples_split=1, n_estimators=15;, score=(train=nan, test=nan) total time=   0.1s\n",
            "[CV 2/5] END max_depth=1, min_samples_split=1, n_estimators=15;, score=(train=nan, test=nan) total time=   0.1s\n",
            "[CV 3/5] END max_depth=1, min_samples_split=1, n_estimators=15;, score=(train=nan, test=nan) total time=   0.1s\n",
            "[CV 4/5] END max_depth=1, min_samples_split=1, n_estimators=15;, score=(train=nan, test=nan) total time=   0.1s\n",
            "[CV 5/5] END max_depth=1, min_samples_split=1, n_estimators=15;, score=(train=nan, test=nan) total time=   0.1s\n",
            "[CV 1/5] END max_depth=1, min_samples_split=2, n_estimators=1;, score=(train=0.001, test=0.582) total time=   0.9s\n",
            "[CV 2/5] END max_depth=1, min_samples_split=2, n_estimators=1;, score=(train=0.001, test=0.567) total time=   1.0s\n",
            "[CV 3/5] END max_depth=1, min_samples_split=2, n_estimators=1;, score=(train=0.001, test=0.571) total time=   0.9s\n",
            "[CV 4/5] END max_depth=1, min_samples_split=2, n_estimators=1;, score=(train=0.001, test=0.569) total time=   0.7s\n",
            "[CV 5/5] END max_depth=1, min_samples_split=2, n_estimators=1;, score=(train=0.572, test=0.000) total time=   0.7s\n",
            "[CV 1/5] END max_depth=1, min_samples_split=2, n_estimators=5;, score=(train=0.001, test=0.584) total time=   2.7s\n",
            "[CV 2/5] END max_depth=1, min_samples_split=2, n_estimators=5;, score=(train=0.001, test=0.569) total time=   2.7s\n",
            "[CV 3/5] END max_depth=1, min_samples_split=2, n_estimators=5;, score=(train=0.001, test=0.572) total time=   2.9s\n",
            "[CV 4/5] END max_depth=1, min_samples_split=2, n_estimators=5;, score=(train=0.001, test=0.571) total time=   3.1s\n",
            "[CV 5/5] END max_depth=1, min_samples_split=2, n_estimators=5;, score=(train=0.574, test=0.000) total time=   2.7s\n",
            "[CV 1/5] END max_depth=1, min_samples_split=2, n_estimators=10;, score=(train=0.001, test=0.585) total time=   5.1s\n",
            "[CV 2/5] END max_depth=1, min_samples_split=2, n_estimators=10;, score=(train=0.001, test=0.535) total time=   6.1s\n",
            "[CV 3/5] END max_depth=1, min_samples_split=2, n_estimators=10;, score=(train=0.001, test=0.541) total time=   5.0s\n",
            "[CV 4/5] END max_depth=1, min_samples_split=2, n_estimators=10;, score=(train=0.001, test=0.570) total time=   5.9s\n",
            "[CV 5/5] END max_depth=1, min_samples_split=2, n_estimators=10;, score=(train=0.574, test=0.000) total time=   5.2s\n",
            "[CV 1/5] END max_depth=1, min_samples_split=2, n_estimators=15;, score=(train=0.001, test=0.585) total time=   8.4s\n",
            "[CV 2/5] END max_depth=1, min_samples_split=2, n_estimators=15;, score=(train=0.001, test=0.550) total time=   8.8s\n",
            "[CV 3/5] END max_depth=1, min_samples_split=2, n_estimators=15;, score=(train=0.001, test=0.572) total time=   7.8s\n",
            "[CV 4/5] END max_depth=1, min_samples_split=2, n_estimators=15;, score=(train=0.001, test=0.571) total time=   8.4s\n",
            "[CV 5/5] END max_depth=1, min_samples_split=2, n_estimators=15;, score=(train=0.574, test=0.000) total time=   8.6s\n",
            "[CV 1/5] END max_depth=1, min_samples_split=3, n_estimators=1;, score=(train=0.001, test=0.583) total time=   0.7s\n",
            "[CV 2/5] END max_depth=1, min_samples_split=3, n_estimators=1;, score=(train=0.001, test=0.566) total time=   0.7s\n",
            "[CV 3/5] END max_depth=1, min_samples_split=3, n_estimators=1;, score=(train=0.001, test=0.571) total time=   0.7s\n",
            "[CV 4/5] END max_depth=1, min_samples_split=3, n_estimators=1;, score=(train=0.001, test=0.568) total time=   0.7s\n",
            "[CV 5/5] END max_depth=1, min_samples_split=3, n_estimators=1;, score=(train=0.573, test=0.000) total time=   0.7s\n",
            "[CV 1/5] END max_depth=1, min_samples_split=3, n_estimators=5;, score=(train=0.001, test=0.585) total time=   3.1s\n",
            "[CV 2/5] END max_depth=1, min_samples_split=3, n_estimators=5;, score=(train=0.001, test=0.569) total time=   3.1s\n",
            "[CV 3/5] END max_depth=1, min_samples_split=3, n_estimators=5;, score=(train=0.001, test=0.572) total time=   2.7s\n",
            "[CV 4/5] END max_depth=1, min_samples_split=3, n_estimators=5;, score=(train=0.001, test=0.572) total time=   2.7s\n",
            "[CV 5/5] END max_depth=1, min_samples_split=3, n_estimators=5;, score=(train=0.574, test=0.000) total time=   2.9s\n",
            "[CV 1/5] END max_depth=1, min_samples_split=3, n_estimators=10;, score=(train=0.001, test=0.585) total time=   7.0s\n",
            "[CV 2/5] END max_depth=1, min_samples_split=3, n_estimators=10;, score=(train=0.001, test=0.568) total time=   9.1s\n",
            "[CV 3/5] END max_depth=1, min_samples_split=3, n_estimators=10;, score=(train=0.001, test=0.572) total time=   6.1s\n",
            "[CV 4/5] END max_depth=1, min_samples_split=3, n_estimators=10;, score=(train=0.001, test=0.570) total time=   7.6s\n",
            "[CV 5/5] END max_depth=1, min_samples_split=3, n_estimators=10;, score=(train=0.574, test=0.000) total time=   6.6s\n",
            "[CV 1/5] END max_depth=1, min_samples_split=3, n_estimators=15;, score=(train=0.001, test=0.585) total time=   8.6s\n",
            "[CV 2/5] END max_depth=1, min_samples_split=3, n_estimators=15;, score=(train=0.001, test=0.550) total time=   9.2s\n",
            "[CV 3/5] END max_depth=1, min_samples_split=3, n_estimators=15;, score=(train=0.001, test=0.572) total time=   8.4s\n",
            "[CV 4/5] END max_depth=1, min_samples_split=3, n_estimators=15;, score=(train=0.001, test=0.571) total time=   7.8s\n",
            "[CV 5/5] END max_depth=1, min_samples_split=3, n_estimators=15;, score=(train=0.574, test=0.000) total time=   8.1s\n",
            "[CV 1/5] END max_depth=2, min_samples_split=1, n_estimators=1;, score=(train=nan, test=nan) total time=   0.1s\n",
            "[CV 2/5] END max_depth=2, min_samples_split=1, n_estimators=1;, score=(train=nan, test=nan) total time=   0.1s\n",
            "[CV 3/5] END max_depth=2, min_samples_split=1, n_estimators=1;, score=(train=nan, test=nan) total time=   0.1s\n",
            "[CV 4/5] END max_depth=2, min_samples_split=1, n_estimators=1;, score=(train=nan, test=nan) total time=   0.1s\n",
            "[CV 5/5] END max_depth=2, min_samples_split=1, n_estimators=1;, score=(train=nan, test=nan) total time=   0.1s\n",
            "[CV 1/5] END max_depth=2, min_samples_split=1, n_estimators=5;, score=(train=nan, test=nan) total time=   0.1s\n",
            "[CV 2/5] END max_depth=2, min_samples_split=1, n_estimators=5;, score=(train=nan, test=nan) total time=   0.1s\n",
            "[CV 3/5] END max_depth=2, min_samples_split=1, n_estimators=5;, score=(train=nan, test=nan) total time=   0.1s\n",
            "[CV 4/5] END max_depth=2, min_samples_split=1, n_estimators=5;, score=(train=nan, test=nan) total time=   0.1s\n",
            "[CV 5/5] END max_depth=2, min_samples_split=1, n_estimators=5;, score=(train=nan, test=nan) total time=   0.1s\n",
            "[CV 1/5] END max_depth=2, min_samples_split=1, n_estimators=10;, score=(train=nan, test=nan) total time=   0.1s\n",
            "[CV 2/5] END max_depth=2, min_samples_split=1, n_estimators=10;, score=(train=nan, test=nan) total time=   0.1s\n",
            "[CV 3/5] END max_depth=2, min_samples_split=1, n_estimators=10;, score=(train=nan, test=nan) total time=   0.1s\n",
            "[CV 4/5] END max_depth=2, min_samples_split=1, n_estimators=10;, score=(train=nan, test=nan) total time=   0.1s\n",
            "[CV 5/5] END max_depth=2, min_samples_split=1, n_estimators=10;, score=(train=nan, test=nan) total time=   0.1s\n",
            "[CV 1/5] END max_depth=2, min_samples_split=1, n_estimators=15;, score=(train=nan, test=nan) total time=   0.1s\n",
            "[CV 2/5] END max_depth=2, min_samples_split=1, n_estimators=15;, score=(train=nan, test=nan) total time=   0.1s\n",
            "[CV 3/5] END max_depth=2, min_samples_split=1, n_estimators=15;, score=(train=nan, test=nan) total time=   0.1s\n",
            "[CV 4/5] END max_depth=2, min_samples_split=1, n_estimators=15;, score=(train=nan, test=nan) total time=   0.1s\n",
            "[CV 5/5] END max_depth=2, min_samples_split=1, n_estimators=15;, score=(train=nan, test=nan) total time=   0.1s\n",
            "[CV 1/5] END max_depth=2, min_samples_split=2, n_estimators=1;, score=(train=0.002, test=0.722) total time=   1.2s\n",
            "[CV 2/5] END max_depth=2, min_samples_split=2, n_estimators=1;, score=(train=0.002, test=0.702) total time=   1.6s\n",
            "[CV 3/5] END max_depth=2, min_samples_split=2, n_estimators=1;, score=(train=0.002, test=0.707) total time=   1.2s\n",
            "[CV 4/5] END max_depth=2, min_samples_split=2, n_estimators=1;, score=(train=0.002, test=0.700) total time=   1.2s\n",
            "[CV 5/5] END max_depth=2, min_samples_split=2, n_estimators=1;, score=(train=0.709, test=0.000) total time=   1.2s\n",
            "[CV 1/5] END max_depth=2, min_samples_split=2, n_estimators=5;, score=(train=0.002, test=0.692) total time=   5.0s\n",
            "[CV 2/5] END max_depth=2, min_samples_split=2, n_estimators=5;, score=(train=0.002, test=0.639) total time=   5.8s\n",
            "[CV 3/5] END max_depth=2, min_samples_split=2, n_estimators=5;, score=(train=0.002, test=0.693) total time=   5.1s\n",
            "[CV 4/5] END max_depth=2, min_samples_split=2, n_estimators=5;, score=(train=0.002, test=0.474) total time=   6.3s\n",
            "[CV 5/5] END max_depth=2, min_samples_split=2, n_estimators=5;, score=(train=0.710, test=0.000) total time=   5.1s\n",
            "[CV 1/5] END max_depth=2, min_samples_split=2, n_estimators=10;, score=(train=0.002, test=0.700) total time=  10.4s\n",
            "[CV 2/5] END max_depth=2, min_samples_split=2, n_estimators=10;, score=(train=0.002, test=0.706) total time=  10.3s\n",
            "[CV 3/5] END max_depth=2, min_samples_split=2, n_estimators=10;, score=(train=0.002, test=0.649) total time=  10.4s\n",
            "[CV 4/5] END max_depth=2, min_samples_split=2, n_estimators=10;, score=(train=0.002, test=0.664) total time=  10.5s\n",
            "[CV 5/5] END max_depth=2, min_samples_split=2, n_estimators=10;, score=(train=0.711, test=0.000) total time=  10.0s\n",
            "[CV 1/5] END max_depth=2, min_samples_split=2, n_estimators=15;, score=(train=0.002, test=0.707) total time=  15.1s\n",
            "[CV 2/5] END max_depth=2, min_samples_split=2, n_estimators=15;, score=(train=0.002, test=0.535) total time=  15.7s\n",
            "[CV 3/5] END max_depth=2, min_samples_split=2, n_estimators=15;, score=(train=0.002, test=0.661) total time=  15.9s\n",
            "[CV 4/5] END max_depth=2, min_samples_split=2, n_estimators=15;, score=(train=0.002, test=0.627) total time=  15.5s\n",
            "[CV 5/5] END max_depth=2, min_samples_split=2, n_estimators=15;, score=(train=0.710, test=0.000) total time=  15.5s\n",
            "[CV 1/5] END max_depth=2, min_samples_split=3, n_estimators=1;, score=(train=0.002, test=0.722) total time=   1.2s\n",
            "[CV 2/5] END max_depth=2, min_samples_split=3, n_estimators=1;, score=(train=0.002, test=0.701) total time=   1.2s\n",
            "[CV 3/5] END max_depth=2, min_samples_split=3, n_estimators=1;, score=(train=0.002, test=0.703) total time=   1.3s\n",
            "[CV 4/5] END max_depth=2, min_samples_split=3, n_estimators=1;, score=(train=0.002, test=0.704) total time=   1.8s\n",
            "[CV 5/5] END max_depth=2, min_samples_split=3, n_estimators=1;, score=(train=0.709, test=0.000) total time=   1.2s\n",
            "[CV 1/5] END max_depth=2, min_samples_split=3, n_estimators=5;, score=(train=0.002, test=0.281) total time=   5.2s\n",
            "[CV 2/5] END max_depth=2, min_samples_split=3, n_estimators=5;, score=(train=0.002, test=0.613) total time=   5.9s\n",
            "[CV 3/5] END max_depth=2, min_samples_split=3, n_estimators=5;, score=(train=0.002, test=0.650) total time=   5.0s\n",
            "[CV 4/5] END max_depth=2, min_samples_split=3, n_estimators=5;, score=(train=0.002, test=0.692) total time=   5.4s\n",
            "[CV 5/5] END max_depth=2, min_samples_split=3, n_estimators=5;, score=(train=0.710, test=0.000) total time=   5.2s\n",
            "[CV 1/5] END max_depth=2, min_samples_split=3, n_estimators=10;, score=(train=0.002, test=0.710) total time=  10.9s\n",
            "[CV 2/5] END max_depth=2, min_samples_split=3, n_estimators=10;, score=(train=0.002, test=0.680) total time=  10.5s\n",
            "[CV 3/5] END max_depth=2, min_samples_split=3, n_estimators=10;, score=(train=0.002, test=0.676) total time=  11.1s\n",
            "[CV 4/5] END max_depth=2, min_samples_split=3, n_estimators=10;, score=(train=0.002, test=0.691) total time=  10.5s\n",
            "[CV 5/5] END max_depth=2, min_samples_split=3, n_estimators=10;, score=(train=0.710, test=0.000) total time=   9.9s\n",
            "[CV 1/5] END max_depth=2, min_samples_split=3, n_estimators=15;, score=(train=0.002, test=0.625) total time=  16.4s\n",
            "[CV 2/5] END max_depth=2, min_samples_split=3, n_estimators=15;, score=(train=0.002, test=0.618) total time=  15.6s\n",
            "[CV 3/5] END max_depth=2, min_samples_split=3, n_estimators=15;, score=(train=0.002, test=0.604) total time=  15.6s\n",
            "[CV 4/5] END max_depth=2, min_samples_split=3, n_estimators=15;, score=(train=0.002, test=0.677) total time=  16.6s\n",
            "[CV 5/5] END max_depth=2, min_samples_split=3, n_estimators=15;, score=(train=0.710, test=0.000) total time=  16.4s\n",
            "[CV 1/5] END max_depth=3, min_samples_split=1, n_estimators=1;, score=(train=nan, test=nan) total time=   0.1s\n",
            "[CV 2/5] END max_depth=3, min_samples_split=1, n_estimators=1;, score=(train=nan, test=nan) total time=   0.1s\n",
            "[CV 3/5] END max_depth=3, min_samples_split=1, n_estimators=1;, score=(train=nan, test=nan) total time=   0.1s\n",
            "[CV 4/5] END max_depth=3, min_samples_split=1, n_estimators=1;, score=(train=nan, test=nan) total time=   0.1s\n",
            "[CV 5/5] END max_depth=3, min_samples_split=1, n_estimators=1;, score=(train=nan, test=nan) total time=   0.1s\n",
            "[CV 1/5] END max_depth=3, min_samples_split=1, n_estimators=5;, score=(train=nan, test=nan) total time=   0.1s\n",
            "[CV 2/5] END max_depth=3, min_samples_split=1, n_estimators=5;, score=(train=nan, test=nan) total time=   0.1s\n",
            "[CV 3/5] END max_depth=3, min_samples_split=1, n_estimators=5;, score=(train=nan, test=nan) total time=   0.1s\n",
            "[CV 4/5] END max_depth=3, min_samples_split=1, n_estimators=5;, score=(train=nan, test=nan) total time=   0.1s\n",
            "[CV 5/5] END max_depth=3, min_samples_split=1, n_estimators=5;, score=(train=nan, test=nan) total time=   0.1s\n",
            "[CV 1/5] END max_depth=3, min_samples_split=1, n_estimators=10;, score=(train=nan, test=nan) total time=   0.1s\n",
            "[CV 2/5] END max_depth=3, min_samples_split=1, n_estimators=10;, score=(train=nan, test=nan) total time=   0.1s\n",
            "[CV 3/5] END max_depth=3, min_samples_split=1, n_estimators=10;, score=(train=nan, test=nan) total time=   0.1s\n",
            "[CV 4/5] END max_depth=3, min_samples_split=1, n_estimators=10;, score=(train=nan, test=nan) total time=   0.1s\n",
            "[CV 5/5] END max_depth=3, min_samples_split=1, n_estimators=10;, score=(train=nan, test=nan) total time=   0.1s\n",
            "[CV 1/5] END max_depth=3, min_samples_split=1, n_estimators=15;, score=(train=nan, test=nan) total time=   0.1s\n",
            "[CV 2/5] END max_depth=3, min_samples_split=1, n_estimators=15;, score=(train=nan, test=nan) total time=   0.1s\n",
            "[CV 3/5] END max_depth=3, min_samples_split=1, n_estimators=15;, score=(train=nan, test=nan) total time=   0.1s\n",
            "[CV 4/5] END max_depth=3, min_samples_split=1, n_estimators=15;, score=(train=nan, test=nan) total time=   0.1s\n",
            "[CV 5/5] END max_depth=3, min_samples_split=1, n_estimators=15;, score=(train=nan, test=nan) total time=   0.1s\n",
            "[CV 1/5] END max_depth=3, min_samples_split=2, n_estimators=1;, score=(train=0.003, test=0.317) total time=   2.3s\n",
            "[CV 2/5] END max_depth=3, min_samples_split=2, n_estimators=1;, score=(train=0.002, test=0.751) total time=   1.7s\n",
            "[CV 3/5] END max_depth=3, min_samples_split=2, n_estimators=1;, score=(train=0.002, test=-0.659) total time=   1.6s\n",
            "[CV 4/5] END max_depth=3, min_samples_split=2, n_estimators=1;, score=(train=0.002, test=0.753) total time=   1.6s\n",
            "[CV 5/5] END max_depth=3, min_samples_split=2, n_estimators=1;, score=(train=0.757, test=0.000) total time=   1.6s\n",
            "[CV 1/5] END max_depth=3, min_samples_split=2, n_estimators=5;, score=(train=0.002, test=-0.917) total time=   7.8s\n",
            "[CV 2/5] END max_depth=3, min_samples_split=2, n_estimators=5;, score=(train=0.003, test=-0.164) total time=   7.3s\n",
            "[CV 3/5] END max_depth=3, min_samples_split=2, n_estimators=5;, score=(train=0.003, test=0.621) total time=   8.1s\n",
            "[CV 4/5] END max_depth=3, min_samples_split=2, n_estimators=5;, score=(train=0.003, test=0.300) total time=   7.8s\n",
            "[CV 5/5] END max_depth=3, min_samples_split=2, n_estimators=5;, score=(train=0.760, test=0.000) total time=   7.0s\n",
            "[CV 1/5] END max_depth=3, min_samples_split=2, n_estimators=10;, score=(train=0.044, test=-12.416) total time=  15.6s\n",
            "[CV 2/5] END max_depth=3, min_samples_split=2, n_estimators=10;, score=(train=0.003, test=0.379) total time=  20.3s\n",
            "[CV 3/5] END max_depth=3, min_samples_split=2, n_estimators=10;, score=(train=0.003, test=0.546) total time=  15.7s\n",
            "[CV 4/5] END max_depth=3, min_samples_split=2, n_estimators=10;, score=(train=0.003, test=-0.161) total time=  14.9s\n",
            "[CV 5/5] END max_depth=3, min_samples_split=2, n_estimators=10;, score=(train=0.761, test=0.000) total time=  14.9s\n",
            "[CV 1/5] END max_depth=3, min_samples_split=2, n_estimators=15;, score=(train=0.003, test=0.274) total time=  23.1s\n",
            "[CV 2/5] END max_depth=3, min_samples_split=2, n_estimators=15;, score=(train=0.003, test=0.273) total time=  22.9s\n",
            "[CV 3/5] END max_depth=3, min_samples_split=2, n_estimators=15;, score=(train=0.003, test=0.314) total time=  21.9s\n",
            "[CV 4/5] END max_depth=3, min_samples_split=2, n_estimators=15;, score=(train=0.003, test=0.419) total time=  22.2s\n",
            "[CV 5/5] END max_depth=3, min_samples_split=2, n_estimators=15;, score=(train=0.761, test=0.000) total time=  22.1s\n",
            "[CV 1/5] END max_depth=3, min_samples_split=3, n_estimators=1;, score=(train=0.002, test=0.767) total time=   1.7s\n",
            "[CV 2/5] END max_depth=3, min_samples_split=3, n_estimators=1;, score=(train=0.003, test=0.211) total time=   1.6s\n",
            "[CV 3/5] END max_depth=3, min_samples_split=3, n_estimators=1;, score=(train=0.003, test=0.425) total time=   1.6s\n",
            "[CV 4/5] END max_depth=3, min_samples_split=3, n_estimators=1;, score=(train=0.003, test=0.293) total time=   1.6s\n",
            "[CV 5/5] END max_depth=3, min_samples_split=3, n_estimators=1;, score=(train=0.757, test=0.000) total time=   1.6s\n",
            "[CV 1/5] END max_depth=3, min_samples_split=3, n_estimators=5;, score=(train=0.003, test=0.386) total time=   8.0s\n",
            "[CV 2/5] END max_depth=3, min_samples_split=3, n_estimators=5;, score=(train=0.003, test=0.086) total time=   8.1s\n",
            "[CV 3/5] END max_depth=3, min_samples_split=3, n_estimators=5;, score=(train=0.003, test=0.629) total time=   7.4s\n",
            "[CV 4/5] END max_depth=3, min_samples_split=3, n_estimators=5;, score=(train=0.003, test=0.583) total time=   8.0s\n",
            "[CV 5/5] END max_depth=3, min_samples_split=3, n_estimators=5;, score=(train=0.760, test=0.000) total time=   8.2s\n",
            "[CV 1/5] END max_depth=3, min_samples_split=3, n_estimators=10;, score=(train=0.003, test=0.269) total time=  15.0s\n",
            "[CV 2/5] END max_depth=3, min_samples_split=3, n_estimators=10;, score=(train=0.003, test=0.188) total time=  14.9s\n",
            "[CV 3/5] END max_depth=3, min_samples_split=3, n_estimators=10;, score=(train=0.002, test=-0.020) total time=  14.7s\n",
            "[CV 4/5] END max_depth=3, min_samples_split=3, n_estimators=10;, score=(train=0.003, test=0.236) total time=  15.4s\n",
            "[CV 5/5] END max_depth=3, min_samples_split=3, n_estimators=10;, score=(train=0.760, test=0.000) total time=  14.4s\n",
            "[CV 1/5] END max_depth=3, min_samples_split=3, n_estimators=15;, score=(train=0.003, test=0.227) total time=  22.3s\n",
            "[CV 2/5] END max_depth=3, min_samples_split=3, n_estimators=15;, score=(train=0.002, test=-0.373) total time=  22.0s\n",
            "[CV 3/5] END max_depth=3, min_samples_split=3, n_estimators=15;, score=(train=0.003, test=0.537) total time=  21.5s\n",
            "[CV 4/5] END max_depth=3, min_samples_split=3, n_estimators=15;, score=(train=0.002, test=0.670) total time=  21.9s\n",
            "[CV 5/5] END max_depth=3, min_samples_split=3, n_estimators=15;, score=(train=0.760, test=0.000) total time=  22.3s\n",
            "[CV 1/5] END max_depth=4, min_samples_split=1, n_estimators=1;, score=(train=nan, test=nan) total time=   0.2s\n",
            "[CV 2/5] END max_depth=4, min_samples_split=1, n_estimators=1;, score=(train=nan, test=nan) total time=   0.1s\n",
            "[CV 3/5] END max_depth=4, min_samples_split=1, n_estimators=1;, score=(train=nan, test=nan) total time=   0.1s\n",
            "[CV 4/5] END max_depth=4, min_samples_split=1, n_estimators=1;, score=(train=nan, test=nan) total time=   0.1s\n",
            "[CV 5/5] END max_depth=4, min_samples_split=1, n_estimators=1;, score=(train=nan, test=nan) total time=   0.1s\n",
            "[CV 1/5] END max_depth=4, min_samples_split=1, n_estimators=5;, score=(train=nan, test=nan) total time=   0.1s\n",
            "[CV 2/5] END max_depth=4, min_samples_split=1, n_estimators=5;, score=(train=nan, test=nan) total time=   0.1s\n",
            "[CV 3/5] END max_depth=4, min_samples_split=1, n_estimators=5;, score=(train=nan, test=nan) total time=   0.1s\n",
            "[CV 4/5] END max_depth=4, min_samples_split=1, n_estimators=5;, score=(train=nan, test=nan) total time=   0.1s\n",
            "[CV 5/5] END max_depth=4, min_samples_split=1, n_estimators=5;, score=(train=nan, test=nan) total time=   0.1s\n",
            "[CV 1/5] END max_depth=4, min_samples_split=1, n_estimators=10;, score=(train=nan, test=nan) total time=   0.1s\n",
            "[CV 2/5] END max_depth=4, min_samples_split=1, n_estimators=10;, score=(train=nan, test=nan) total time=   0.1s\n",
            "[CV 3/5] END max_depth=4, min_samples_split=1, n_estimators=10;, score=(train=nan, test=nan) total time=   0.1s\n",
            "[CV 4/5] END max_depth=4, min_samples_split=1, n_estimators=10;, score=(train=nan, test=nan) total time=   0.1s\n",
            "[CV 5/5] END max_depth=4, min_samples_split=1, n_estimators=10;, score=(train=nan, test=nan) total time=   0.1s\n",
            "[CV 1/5] END max_depth=4, min_samples_split=1, n_estimators=15;, score=(train=nan, test=nan) total time=   0.1s\n",
            "[CV 2/5] END max_depth=4, min_samples_split=1, n_estimators=15;, score=(train=nan, test=nan) total time=   0.1s\n",
            "[CV 3/5] END max_depth=4, min_samples_split=1, n_estimators=15;, score=(train=nan, test=nan) total time=   0.1s\n",
            "[CV 4/5] END max_depth=4, min_samples_split=1, n_estimators=15;, score=(train=nan, test=nan) total time=   0.1s\n",
            "[CV 5/5] END max_depth=4, min_samples_split=1, n_estimators=15;, score=(train=nan, test=nan) total time=   0.1s\n",
            "[CV 1/5] END max_depth=4, min_samples_split=2, n_estimators=1;, score=(train=0.045, test=-36.495) total time=   2.5s\n",
            "[CV 2/5] END max_depth=4, min_samples_split=2, n_estimators=1;, score=(train=0.041, test=-25.668) total time=   2.1s\n",
            "[CV 3/5] END max_depth=4, min_samples_split=2, n_estimators=1;, score=(train=-0.437, test=-259.376) total time=   1.9s\n",
            "[CV 4/5] END max_depth=4, min_samples_split=2, n_estimators=1;, score=(train=0.002, test=0.788) total time=   2.0s\n",
            "[CV 5/5] END max_depth=4, min_samples_split=2, n_estimators=1;, score=(train=0.792, test=0.000) total time=   2.0s\n",
            "[CV 1/5] END max_depth=4, min_samples_split=2, n_estimators=5;, score=(train=0.060, test=-122.372) total time=   9.9s\n",
            "[CV 2/5] END max_depth=4, min_samples_split=2, n_estimators=5;, score=(train=0.049, test=-19.671) total time=   9.8s\n",
            "[CV 3/5] END max_depth=4, min_samples_split=2, n_estimators=5;, score=(train=0.046, test=-15.264) total time=   9.8s\n",
            "[CV 4/5] END max_depth=4, min_samples_split=2, n_estimators=5;, score=(train=0.044, test=-4.796) total time=   9.8s\n",
            "[CV 5/5] END max_depth=4, min_samples_split=2, n_estimators=5;, score=(train=0.797, test=0.000) total time=   9.2s\n",
            "[CV 1/5] END max_depth=4, min_samples_split=2, n_estimators=10;, score=(train=0.061, test=-41.599) total time=  19.3s\n",
            "[CV 2/5] END max_depth=4, min_samples_split=2, n_estimators=10;, score=(train=0.054, test=-31.180) total time=  19.9s\n",
            "[CV 3/5] END max_depth=4, min_samples_split=2, n_estimators=10;, score=(train=0.040, test=-5.023) total time=  19.4s\n",
            "[CV 4/5] END max_depth=4, min_samples_split=2, n_estimators=10;, score=(train=0.030, test=-0.406) total time=  20.4s\n",
            "[CV 5/5] END max_depth=4, min_samples_split=2, n_estimators=10;, score=(train=0.797, test=0.000) total time=  19.4s\n",
            "[CV 1/5] END max_depth=4, min_samples_split=2, n_estimators=15;, score=(train=0.058, test=-28.567) total time=  29.8s\n",
            "[CV 2/5] END max_depth=4, min_samples_split=2, n_estimators=15;, score=(train=0.054, test=-26.262) total time=  32.6s\n",
            "[CV 3/5] END max_depth=4, min_samples_split=2, n_estimators=15;, score=(train=0.049, test=-14.218) total time=  29.6s\n",
            "[CV 4/5] END max_depth=4, min_samples_split=2, n_estimators=15;, score=(train=0.045, test=-5.077) total time=  30.4s\n",
            "[CV 5/5] END max_depth=4, min_samples_split=2, n_estimators=15;, score=(train=0.797, test=0.000) total time=  29.1s\n",
            "[CV 1/5] END max_depth=4, min_samples_split=3, n_estimators=1;, score=(train=0.002, test=0.798) total time=   2.0s\n",
            "[CV 2/5] END max_depth=4, min_samples_split=3, n_estimators=1;, score=(train=0.002, test=0.785) total time=   2.7s\n",
            "[CV 3/5] END max_depth=4, min_samples_split=3, n_estimators=1;, score=(train=0.040, test=-17.418) total time=   2.2s\n",
            "[CV 4/5] END max_depth=4, min_samples_split=3, n_estimators=1;, score=(train=0.043, test=-8.196) total time=   2.0s\n",
            "[CV 5/5] END max_depth=4, min_samples_split=3, n_estimators=1;, score=(train=0.792, test=0.000) total time=   2.1s\n",
            "[CV 1/5] END max_depth=4, min_samples_split=3, n_estimators=5;, score=(train=0.051, test=-23.032) total time=  10.0s\n",
            "[CV 2/5] END max_depth=4, min_samples_split=3, n_estimators=5;, score=(train=0.035, test=-66.969) total time=  10.1s\n",
            "[CV 3/5] END max_depth=4, min_samples_split=3, n_estimators=5;, score=(train=0.024, test=-0.557) total time=  10.1s\n",
            "[CV 4/5] END max_depth=4, min_samples_split=3, n_estimators=5;, score=(train=0.044, test=-4.124) total time=   9.3s\n",
            "[CV 5/5] END max_depth=4, min_samples_split=3, n_estimators=5;, score=(train=0.796, test=0.000) total time=  10.6s\n",
            "[CV 1/5] END max_depth=4, min_samples_split=3, n_estimators=10;, score=(train=0.061, test=-118.131) total time=  20.3s\n",
            "[CV 2/5] END max_depth=4, min_samples_split=3, n_estimators=10;, score=(train=0.049, test=-12.149) total time=  20.3s\n",
            "[CV 3/5] END max_depth=4, min_samples_split=3, n_estimators=10;, score=(train=0.041, test=-6.004) total time=  19.7s\n",
            "[CV 4/5] END max_depth=4, min_samples_split=3, n_estimators=10;, score=(train=0.043, test=-5.337) total time=  20.3s\n",
            "[CV 5/5] END max_depth=4, min_samples_split=3, n_estimators=10;, score=(train=0.797, test=0.000) total time=  20.5s\n",
            "[CV 1/5] END max_depth=4, min_samples_split=3, n_estimators=15;, score=(train=0.067, test=-63.542) total time=  30.3s\n",
            "[CV 2/5] END max_depth=4, min_samples_split=3, n_estimators=15;, score=(train=0.053, test=-28.927) total time=  29.5s\n",
            "[CV 3/5] END max_depth=4, min_samples_split=3, n_estimators=15;, score=(train=0.134, test=-25.295) total time=  30.0s\n",
            "[CV 4/5] END max_depth=4, min_samples_split=3, n_estimators=15;, score=(train=0.043, test=-4.785) total time=  29.0s\n",
            "[CV 5/5] END max_depth=4, min_samples_split=3, n_estimators=15;, score=(train=0.797, test=0.000) total time=  28.8s\n",
            "[CV 1/5] END max_depth=5, min_samples_split=1, n_estimators=1;, score=(train=nan, test=nan) total time=   0.1s\n",
            "[CV 2/5] END max_depth=5, min_samples_split=1, n_estimators=1;, score=(train=nan, test=nan) total time=   0.1s\n",
            "[CV 3/5] END max_depth=5, min_samples_split=1, n_estimators=1;, score=(train=nan, test=nan) total time=   0.1s\n",
            "[CV 4/5] END max_depth=5, min_samples_split=1, n_estimators=1;, score=(train=nan, test=nan) total time=   0.1s\n",
            "[CV 5/5] END max_depth=5, min_samples_split=1, n_estimators=1;, score=(train=nan, test=nan) total time=   0.1s\n",
            "[CV 1/5] END max_depth=5, min_samples_split=1, n_estimators=5;, score=(train=nan, test=nan) total time=   0.1s\n",
            "[CV 2/5] END max_depth=5, min_samples_split=1, n_estimators=5;, score=(train=nan, test=nan) total time=   0.1s\n",
            "[CV 3/5] END max_depth=5, min_samples_split=1, n_estimators=5;, score=(train=nan, test=nan) total time=   0.1s\n",
            "[CV 4/5] END max_depth=5, min_samples_split=1, n_estimators=5;, score=(train=nan, test=nan) total time=   0.1s\n",
            "[CV 5/5] END max_depth=5, min_samples_split=1, n_estimators=5;, score=(train=nan, test=nan) total time=   0.1s\n",
            "[CV 1/5] END max_depth=5, min_samples_split=1, n_estimators=10;, score=(train=nan, test=nan) total time=   0.1s\n",
            "[CV 2/5] END max_depth=5, min_samples_split=1, n_estimators=10;, score=(train=nan, test=nan) total time=   0.1s\n",
            "[CV 3/5] END max_depth=5, min_samples_split=1, n_estimators=10;, score=(train=nan, test=nan) total time=   0.1s\n",
            "[CV 4/5] END max_depth=5, min_samples_split=1, n_estimators=10;, score=(train=nan, test=nan) total time=   0.1s\n",
            "[CV 5/5] END max_depth=5, min_samples_split=1, n_estimators=10;, score=(train=nan, test=nan) total time=   0.1s\n",
            "[CV 1/5] END max_depth=5, min_samples_split=1, n_estimators=15;, score=(train=nan, test=nan) total time=   0.1s\n",
            "[CV 2/5] END max_depth=5, min_samples_split=1, n_estimators=15;, score=(train=nan, test=nan) total time=   0.1s\n",
            "[CV 3/5] END max_depth=5, min_samples_split=1, n_estimators=15;, score=(train=nan, test=nan) total time=   0.1s\n",
            "[CV 4/5] END max_depth=5, min_samples_split=1, n_estimators=15;, score=(train=nan, test=nan) total time=   0.1s\n",
            "[CV 5/5] END max_depth=5, min_samples_split=1, n_estimators=15;, score=(train=nan, test=nan) total time=   0.1s\n",
            "[CV 1/5] END max_depth=5, min_samples_split=2, n_estimators=1;, score=(train=-0.996, test=-1643.570) total time=   2.5s\n",
            "[CV 2/5] END max_depth=5, min_samples_split=2, n_estimators=1;, score=(train=0.002, test=0.817) total time=   3.3s\n",
            "[CV 3/5] END max_depth=5, min_samples_split=2, n_estimators=1;, score=(train=0.002, test=0.818) total time=   2.5s\n",
            "[CV 4/5] END max_depth=5, min_samples_split=2, n_estimators=1;, score=(train=0.002, test=0.819) total time=   2.5s\n",
            "[CV 5/5] END max_depth=5, min_samples_split=2, n_estimators=1;, score=(train=0.821, test=0.001) total time=   2.4s\n",
            "[CV 1/5] END max_depth=5, min_samples_split=2, n_estimators=5;, score=(train=0.238, test=-2.246) total time=  12.0s\n",
            "[CV 2/5] END max_depth=5, min_samples_split=2, n_estimators=5;, score=(train=0.301, test=-287.281) total time=  12.3s\n",
            "[CV 3/5] END max_depth=5, min_samples_split=2, n_estimators=5;, score=(train=0.342, test=-223.574) total time=  12.3s\n",
            "[CV 4/5] END max_depth=5, min_samples_split=2, n_estimators=5;, score=(train=0.222, test=-0.467) total time=  12.2s\n",
            "[CV 5/5] END max_depth=5, min_samples_split=2, n_estimators=5;, score=(train=0.827, test=0.001) total time=  12.5s\n",
            "[CV 1/5] END max_depth=5, min_samples_split=2, n_estimators=10;, score=(train=0.255, test=-9.402) total time=  24.2s\n",
            "[CV 2/5] END max_depth=5, min_samples_split=2, n_estimators=10;, score=(train=0.325, test=-242.388) total time=  24.4s\n",
            "[CV 3/5] END max_depth=5, min_samples_split=2, n_estimators=10;, score=(train=0.387, test=-378.731) total time=  23.2s\n",
            "[CV 4/5] END max_depth=5, min_samples_split=2, n_estimators=10;, score=(train=0.247, test=-0.887) total time=  24.1s\n",
            "[CV 5/5] END max_depth=5, min_samples_split=2, n_estimators=10;, score=(train=0.827, test=0.001) total time=  24.7s\n",
            "[CV 1/5] END max_depth=5, min_samples_split=2, n_estimators=15;, score=(train=0.275, test=-9.240) total time=  36.6s\n",
            "[CV 2/5] END max_depth=5, min_samples_split=2, n_estimators=15;, score=(train=0.160, test=-25.478) total time=  36.3s\n",
            "[CV 3/5] END max_depth=5, min_samples_split=2, n_estimators=15;, score=(train=0.479, test=-339.215) total time=  35.3s\n",
            "[CV 4/5] END max_depth=5, min_samples_split=2, n_estimators=15;, score=(train=0.358, test=-9.608) total time=  39.5s\n",
            "[CV 5/5] END max_depth=5, min_samples_split=2, n_estimators=15;, score=(train=0.828, test=0.001) total time=  37.5s\n",
            "[CV 1/5] END max_depth=5, min_samples_split=3, n_estimators=1;, score=(train=0.002, test=0.821) total time=   2.5s\n",
            "[CV 2/5] END max_depth=5, min_samples_split=3, n_estimators=1;, score=(train=0.321, test=-255.289) total time=   2.6s\n",
            "[CV 3/5] END max_depth=5, min_samples_split=3, n_estimators=1;, score=(train=-0.248, test=-1625.772) total time=   2.5s\n",
            "[CV 4/5] END max_depth=5, min_samples_split=3, n_estimators=1;, score=(train=0.064, test=-100.702) total time=   3.4s\n",
            "[CV 5/5] END max_depth=5, min_samples_split=3, n_estimators=1;, score=(train=0.821, test=0.001) total time=   2.5s\n",
            "[CV 1/5] END max_depth=5, min_samples_split=3, n_estimators=5;, score=(train=0.244, test=-14.978) total time=  12.6s\n",
            "[CV 2/5] END max_depth=5, min_samples_split=3, n_estimators=5;, score=(train=0.284, test=-115.231) total time=  12.8s\n",
            "[CV 3/5] END max_depth=5, min_samples_split=3, n_estimators=5;, score=(train=0.117, test=-28.132) total time=  12.9s\n",
            "[CV 4/5] END max_depth=5, min_samples_split=3, n_estimators=5;, score=(train=0.115, test=-1.195) total time=  12.8s\n",
            "[CV 5/5] END max_depth=5, min_samples_split=3, n_estimators=5;, score=(train=0.829, test=0.001) total time=  12.5s\n",
            "[CV 1/5] END max_depth=5, min_samples_split=3, n_estimators=10;, score=(train=0.250, test=-1.389) total time=  24.9s\n",
            "[CV 2/5] END max_depth=5, min_samples_split=3, n_estimators=10;, score=(train=0.284, test=-279.135) total time=  24.5s\n",
            "[CV 3/5] END max_depth=5, min_samples_split=3, n_estimators=10;, score=(train=0.415, test=-385.999) total time=  24.5s\n",
            "[CV 4/5] END max_depth=5, min_samples_split=3, n_estimators=10;, score=(train=0.149, test=-2.501) total time=  24.9s\n",
            "[CV 5/5] END max_depth=5, min_samples_split=3, n_estimators=10;, score=(train=0.829, test=0.001) total time=  24.7s\n",
            "[CV 1/5] END max_depth=5, min_samples_split=3, n_estimators=15;, score=(train=0.233, test=-19.818) total time=  36.2s\n",
            "[CV 2/5] END max_depth=5, min_samples_split=3, n_estimators=15;, score=(train=0.148, test=-13.750) total time=  37.7s\n",
            "[CV 3/5] END max_depth=5, min_samples_split=3, n_estimators=15;, score=(train=0.412, test=-434.180) total time=  36.1s\n",
            "[CV 4/5] END max_depth=5, min_samples_split=3, n_estimators=15;, score=(train=0.374, test=-0.465) total time=  37.4s\n",
            "[CV 5/5] END max_depth=5, min_samples_split=3, n_estimators=15;, score=(train=0.828, test=0.001) total time=  37.2s\n",
            "[CV 1/5] END max_depth=6, min_samples_split=1, n_estimators=1;, score=(train=nan, test=nan) total time=   0.1s\n",
            "[CV 2/5] END max_depth=6, min_samples_split=1, n_estimators=1;, score=(train=nan, test=nan) total time=   0.1s\n",
            "[CV 3/5] END max_depth=6, min_samples_split=1, n_estimators=1;, score=(train=nan, test=nan) total time=   0.1s\n",
            "[CV 4/5] END max_depth=6, min_samples_split=1, n_estimators=1;, score=(train=nan, test=nan) total time=   0.1s\n",
            "[CV 5/5] END max_depth=6, min_samples_split=1, n_estimators=1;, score=(train=nan, test=nan) total time=   0.1s\n",
            "[CV 1/5] END max_depth=6, min_samples_split=1, n_estimators=5;, score=(train=nan, test=nan) total time=   0.1s\n",
            "[CV 2/5] END max_depth=6, min_samples_split=1, n_estimators=5;, score=(train=nan, test=nan) total time=   0.1s\n",
            "[CV 3/5] END max_depth=6, min_samples_split=1, n_estimators=5;, score=(train=nan, test=nan) total time=   0.1s\n",
            "[CV 4/5] END max_depth=6, min_samples_split=1, n_estimators=5;, score=(train=nan, test=nan) total time=   0.1s\n",
            "[CV 5/5] END max_depth=6, min_samples_split=1, n_estimators=5;, score=(train=nan, test=nan) total time=   0.1s\n",
            "[CV 1/5] END max_depth=6, min_samples_split=1, n_estimators=10;, score=(train=nan, test=nan) total time=   0.1s\n",
            "[CV 2/5] END max_depth=6, min_samples_split=1, n_estimators=10;, score=(train=nan, test=nan) total time=   0.1s\n",
            "[CV 3/5] END max_depth=6, min_samples_split=1, n_estimators=10;, score=(train=nan, test=nan) total time=   0.1s\n",
            "[CV 4/5] END max_depth=6, min_samples_split=1, n_estimators=10;, score=(train=nan, test=nan) total time=   0.1s\n",
            "[CV 5/5] END max_depth=6, min_samples_split=1, n_estimators=10;, score=(train=nan, test=nan) total time=   0.1s\n",
            "[CV 1/5] END max_depth=6, min_samples_split=1, n_estimators=15;, score=(train=nan, test=nan) total time=   0.1s\n",
            "[CV 2/5] END max_depth=6, min_samples_split=1, n_estimators=15;, score=(train=nan, test=nan) total time=   0.1s\n",
            "[CV 3/5] END max_depth=6, min_samples_split=1, n_estimators=15;, score=(train=nan, test=nan) total time=   0.1s\n",
            "[CV 4/5] END max_depth=6, min_samples_split=1, n_estimators=15;, score=(train=nan, test=nan) total time=   0.1s\n",
            "[CV 5/5] END max_depth=6, min_samples_split=1, n_estimators=15;, score=(train=nan, test=nan) total time=   0.1s\n",
            "[CV 1/5] END max_depth=6, min_samples_split=2, n_estimators=1;, score=(train=0.002, test=0.849) total time=   2.9s\n",
            "[CV 2/5] END max_depth=6, min_samples_split=2, n_estimators=1;, score=(train=0.002, test=0.844) total time=   3.4s\n",
            "[CV 3/5] END max_depth=6, min_samples_split=2, n_estimators=1;, score=(train=0.002, test=-3251.869) total time=   3.2s\n",
            "[CV 4/5] END max_depth=6, min_samples_split=2, n_estimators=1;, score=(train=1.000, test=0.835) total time=   2.9s\n",
            "[CV 5/5] END max_depth=6, min_samples_split=2, n_estimators=1;, score=(train=0.847, test=0.001) total time=   3.0s\n",
            "[CV 1/5] END max_depth=6, min_samples_split=2, n_estimators=5;, score=(train=0.800, test=-262.296) total time=  15.8s\n",
            "[CV 2/5] END max_depth=6, min_samples_split=2, n_estimators=5;, score=(train=0.700, test=-159.203) total time=  16.9s\n",
            "[CV 3/5] END max_depth=6, min_samples_split=2, n_estimators=5;, score=(train=0.880, test=-129.278) total time=  14.7s\n",
            "[CV 4/5] END max_depth=6, min_samples_split=2, n_estimators=5;, score=(train=0.561, test=-64.134) total time=  14.5s\n",
            "[CV 5/5] END max_depth=6, min_samples_split=2, n_estimators=5;, score=(train=0.854, test=0.001) total time=  15.6s\n",
            "[CV 1/5] END max_depth=6, min_samples_split=2, n_estimators=10;, score=(train=0.760, test=-33.070) total time=  29.0s\n",
            "[CV 2/5] END max_depth=6, min_samples_split=2, n_estimators=10;, score=(train=0.591, test=-799.583) total time=  29.8s\n",
            "[CV 3/5] END max_depth=6, min_samples_split=2, n_estimators=10;, score=(train=0.830, test=-161.832) total time=  29.5s\n",
            "[CV 4/5] END max_depth=6, min_samples_split=2, n_estimators=10;, score=(train=0.726, test=-64.115) total time=  29.1s\n",
            "[CV 5/5] END max_depth=6, min_samples_split=2, n_estimators=10;, score=(train=0.854, test=0.001) total time=  30.0s\n",
            "[CV 1/5] END max_depth=6, min_samples_split=2, n_estimators=15;, score=(train=0.811, test=-138.060) total time=  44.9s\n",
            "[CV 2/5] END max_depth=6, min_samples_split=2, n_estimators=15;, score=(train=0.738, test=-440.238) total time=  44.6s\n",
            "[CV 3/5] END max_depth=6, min_samples_split=2, n_estimators=15;, score=(train=0.844, test=-273.863) total time=  43.8s\n",
            "[CV 4/5] END max_depth=6, min_samples_split=2, n_estimators=15;, score=(train=0.796, test=-28.028) total time=  42.7s\n",
            "[CV 5/5] END max_depth=6, min_samples_split=2, n_estimators=15;, score=(train=0.856, test=0.001) total time=  44.6s\n",
            "[CV 1/5] END max_depth=6, min_samples_split=3, n_estimators=1;, score=(train=-0.996, test=0.847) total time=   3.1s\n",
            "[CV 2/5] END max_depth=6, min_samples_split=3, n_estimators=1;, score=(train=0.002, test=-4801.411) total time=   3.7s\n",
            "[CV 3/5] END max_depth=6, min_samples_split=3, n_estimators=1;, score=(train=1.000, test=0.841) total time=   2.9s\n",
            "[CV 4/5] END max_depth=6, min_samples_split=3, n_estimators=1;, score=(train=0.002, test=0.842) total time=   2.9s\n",
            "[CV 5/5] END max_depth=6, min_samples_split=3, n_estimators=1;, score=(train=0.847, test=0.001) total time=   3.3s\n",
            "[CV 1/5] END max_depth=6, min_samples_split=3, n_estimators=5;, score=(train=0.820, test=-64.904) total time=  14.8s\n",
            "[CV 2/5] END max_depth=6, min_samples_split=3, n_estimators=5;, score=(train=0.760, test=-447.389) total time=  14.8s\n",
            "[CV 3/5] END max_depth=6, min_samples_split=3, n_estimators=5;, score=(train=0.653, test=-397.638) total time=  14.9s\n",
            "[CV 4/5] END max_depth=6, min_samples_split=3, n_estimators=5;, score=(train=0.760, test=-64.122) total time=  14.9s\n",
            "[CV 5/5] END max_depth=6, min_samples_split=3, n_estimators=5;, score=(train=0.853, test=0.001) total time=  15.3s\n",
            "[CV 1/5] END max_depth=6, min_samples_split=3, n_estimators=10;, score=(train=0.611, test=0.860) total time=  28.9s\n",
            "[CV 2/5] END max_depth=6, min_samples_split=3, n_estimators=10;, score=(train=0.362, test=-129.008) total time=  30.2s\n",
            "[CV 3/5] END max_depth=6, min_samples_split=3, n_estimators=10;, score=(train=0.805, test=-787.999) total time=  28.9s\n",
            "[CV 4/5] END max_depth=6, min_samples_split=3, n_estimators=10;, score=(train=0.840, test=-15.393) total time=  29.2s\n",
            "[CV 5/5] END max_depth=6, min_samples_split=3, n_estimators=10;, score=(train=0.855, test=0.001) total time=  29.4s\n",
            "[CV 1/5] END max_depth=6, min_samples_split=3, n_estimators=15;, score=(train=0.840, test=-68.198) total time=  46.1s\n",
            "[CV 2/5] END max_depth=6, min_samples_split=3, n_estimators=15;, score=(train=0.555, test=-308.380) total time=  44.1s\n",
            "[CV 3/5] END max_depth=6, min_samples_split=3, n_estimators=15;, score=(train=0.578, test=-585.513) total time=  45.0s\n",
            "[CV 4/5] END max_depth=6, min_samples_split=3, n_estimators=15;, score=(train=0.694, test=-13.590) total time=  44.5s\n",
            "[CV 5/5] END max_depth=6, min_samples_split=3, n_estimators=15;, score=(train=0.853, test=0.001) total time=  42.8s\n"
          ]
        },
        {
          "output_type": "stream",
          "name": "stderr",
          "text": [
            "/usr/local/lib/python3.10/dist-packages/sklearn/model_selection/_validation.py:378: FitFailedWarning: \n",
            "120 fits failed out of a total of 360.\n",
            "The score on these train-test partitions for these parameters will be set to nan.\n",
            "If these failures are not expected, you can try to debug them by setting error_score='raise'.\n",
            "\n",
            "Below are more details about the failures:\n",
            "--------------------------------------------------------------------------------\n",
            "120 fits failed with the following error:\n",
            "Traceback (most recent call last):\n",
            "  File \"/usr/local/lib/python3.10/dist-packages/sklearn/model_selection/_validation.py\", line 686, in _fit_and_score\n",
            "    estimator.fit(X_train, y_train, **fit_params)\n",
            "  File \"/usr/local/lib/python3.10/dist-packages/sklearn/ensemble/_forest.py\", line 340, in fit\n",
            "    self._validate_params()\n",
            "  File \"/usr/local/lib/python3.10/dist-packages/sklearn/base.py\", line 600, in _validate_params\n",
            "    validate_parameter_constraints(\n",
            "  File \"/usr/local/lib/python3.10/dist-packages/sklearn/utils/_param_validation.py\", line 97, in validate_parameter_constraints\n",
            "    raise InvalidParameterError(\n",
            "sklearn.utils._param_validation.InvalidParameterError: The 'min_samples_split' parameter of RandomForestRegressor must be an int in the range [2, inf) or a float in the range (0.0, 1.0]. Got 1 instead.\n",
            "\n",
            "  warnings.warn(some_fits_failed_message, FitFailedWarning)\n",
            "/usr/local/lib/python3.10/dist-packages/sklearn/model_selection/_search.py:952: UserWarning: One or more of the test scores are non-finite: [            nan             nan             nan             nan\n",
            "  4.57776270e-01  4.59218760e-01  4.46224646e-01  4.55473787e-01\n",
            "  4.57642804e-01  4.59504932e-01  4.59098955e-01  4.55789095e-01\n",
            "             nan             nan             nan             nan\n",
            "  5.66402037e-01  4.99705013e-01  5.43872873e-01  5.06340730e-01\n",
            "  5.66273836e-01  4.47334042e-01  5.51541557e-01  5.04803447e-01\n",
            "             nan             nan             nan             nan\n",
            "  2.32532000e-01 -3.19029156e-02 -2.33033296e+00  2.56168634e-01\n",
            "  3.39121665e-01  3.36912559e-01  1.34621278e-01  2.12160363e-01\n",
            "             nan             nan             nan             nan\n",
            " -6.41499918e+01 -3.24204072e+01 -1.56415473e+01 -1.48247260e+01\n",
            " -4.80586606e+00 -1.89364487e+01 -2.83241844e+01 -2.45098267e+01\n",
            "             nan             nan             nan             nan\n",
            " -3.28223044e+02 -1.02713564e+02 -1.26281605e+02 -7.67080266e+01\n",
            " -3.96188210e+02 -3.19071526e+01 -1.33804896e+02 -9.36425116e+01\n",
            "             nan             nan             nan             nan\n",
            " -6.49867924e+02 -1.22982191e+02 -2.11719964e+02 -1.76037570e+02\n",
            " -9.59776074e+02 -1.94810668e+02 -1.86307782e+02 -1.95136127e+02]\n",
            "  warnings.warn(\n",
            "/usr/local/lib/python3.10/dist-packages/sklearn/model_selection/_search.py:952: UserWarning: One or more of the train scores are non-finite: [        nan         nan         nan         nan  0.11561163  0.11595257\n",
            "  0.11596963  0.1159432   0.11561532  0.11590118  0.1159542   0.11587584\n",
            "         nan         nan         nan         nan  0.14313979  0.14353256\n",
            "  0.14357544  0.14357735  0.14313777  0.14346751  0.14351083  0.14364446\n",
            "         nan         nan         nan         nan  0.15306766  0.15393024\n",
            "  0.1626095   0.15434033  0.15343434  0.15418549  0.15421892  0.1541103\n",
            "         nan         nan         nan         nan  0.08847351  0.19918038\n",
            "  0.19644288  0.2005643   0.17586988  0.18977529  0.19794461  0.21910356\n",
            "         nan         nan         nan         nan -0.03370328  0.38586779\n",
            "  0.40831162  0.41981693  0.19224522  0.31783892  0.3852926   0.39899055\n",
            "         nan         nan         nan         nan  0.37052243  0.7590057\n",
            "  0.75198237  0.80899246  0.1711002   0.76936424  0.69451451  0.70396056]\n",
            "  warnings.warn(\n"
          ]
        },
        {
          "output_type": "execute_result",
          "data": {
            "text/plain": [
              "GridSearchCV(cv=5, estimator=RandomForestRegressor(), n_jobs=-2,\n",
              "             param_grid={'max_depth': [1, 2, 3, 4, 5, 6],\n",
              "                         'min_samples_split': [1, 2, 3],\n",
              "                         'n_estimators': [1, 5, 10, 15]},\n",
              "             return_train_score=True, verbose=3)"
            ],
            "text/html": [
              "<style>#sk-container-id-4 {color: black;background-color: white;}#sk-container-id-4 pre{padding: 0;}#sk-container-id-4 div.sk-toggleable {background-color: white;}#sk-container-id-4 label.sk-toggleable__label {cursor: pointer;display: block;width: 100%;margin-bottom: 0;padding: 0.3em;box-sizing: border-box;text-align: center;}#sk-container-id-4 label.sk-toggleable__label-arrow:before {content: \"▸\";float: left;margin-right: 0.25em;color: #696969;}#sk-container-id-4 label.sk-toggleable__label-arrow:hover:before {color: black;}#sk-container-id-4 div.sk-estimator:hover label.sk-toggleable__label-arrow:before {color: black;}#sk-container-id-4 div.sk-toggleable__content {max-height: 0;max-width: 0;overflow: hidden;text-align: left;background-color: #f0f8ff;}#sk-container-id-4 div.sk-toggleable__content pre {margin: 0.2em;color: black;border-radius: 0.25em;background-color: #f0f8ff;}#sk-container-id-4 input.sk-toggleable__control:checked~div.sk-toggleable__content {max-height: 200px;max-width: 100%;overflow: auto;}#sk-container-id-4 input.sk-toggleable__control:checked~label.sk-toggleable__label-arrow:before {content: \"▾\";}#sk-container-id-4 div.sk-estimator input.sk-toggleable__control:checked~label.sk-toggleable__label {background-color: #d4ebff;}#sk-container-id-4 div.sk-label input.sk-toggleable__control:checked~label.sk-toggleable__label {background-color: #d4ebff;}#sk-container-id-4 input.sk-hidden--visually {border: 0;clip: rect(1px 1px 1px 1px);clip: rect(1px, 1px, 1px, 1px);height: 1px;margin: -1px;overflow: hidden;padding: 0;position: absolute;width: 1px;}#sk-container-id-4 div.sk-estimator {font-family: monospace;background-color: #f0f8ff;border: 1px dotted black;border-radius: 0.25em;box-sizing: border-box;margin-bottom: 0.5em;}#sk-container-id-4 div.sk-estimator:hover {background-color: #d4ebff;}#sk-container-id-4 div.sk-parallel-item::after {content: \"\";width: 100%;border-bottom: 1px solid gray;flex-grow: 1;}#sk-container-id-4 div.sk-label:hover label.sk-toggleable__label {background-color: #d4ebff;}#sk-container-id-4 div.sk-serial::before {content: \"\";position: absolute;border-left: 1px solid gray;box-sizing: border-box;top: 0;bottom: 0;left: 50%;z-index: 0;}#sk-container-id-4 div.sk-serial {display: flex;flex-direction: column;align-items: center;background-color: white;padding-right: 0.2em;padding-left: 0.2em;position: relative;}#sk-container-id-4 div.sk-item {position: relative;z-index: 1;}#sk-container-id-4 div.sk-parallel {display: flex;align-items: stretch;justify-content: center;background-color: white;position: relative;}#sk-container-id-4 div.sk-item::before, #sk-container-id-4 div.sk-parallel-item::before {content: \"\";position: absolute;border-left: 1px solid gray;box-sizing: border-box;top: 0;bottom: 0;left: 50%;z-index: -1;}#sk-container-id-4 div.sk-parallel-item {display: flex;flex-direction: column;z-index: 1;position: relative;background-color: white;}#sk-container-id-4 div.sk-parallel-item:first-child::after {align-self: flex-end;width: 50%;}#sk-container-id-4 div.sk-parallel-item:last-child::after {align-self: flex-start;width: 50%;}#sk-container-id-4 div.sk-parallel-item:only-child::after {width: 0;}#sk-container-id-4 div.sk-dashed-wrapped {border: 1px dashed gray;margin: 0 0.4em 0.5em 0.4em;box-sizing: border-box;padding-bottom: 0.4em;background-color: white;}#sk-container-id-4 div.sk-label label {font-family: monospace;font-weight: bold;display: inline-block;line-height: 1.2em;}#sk-container-id-4 div.sk-label-container {text-align: center;}#sk-container-id-4 div.sk-container {/* jupyter's `normalize.less` sets `[hidden] { display: none; }` but bootstrap.min.css set `[hidden] { display: none !important; }` so we also need the `!important` here to be able to override the default hidden behavior on the sphinx rendered scikit-learn.org. See: https://github.com/scikit-learn/scikit-learn/issues/21755 */display: inline-block !important;position: relative;}#sk-container-id-4 div.sk-text-repr-fallback {display: none;}</style><div id=\"sk-container-id-4\" class=\"sk-top-container\"><div class=\"sk-text-repr-fallback\"><pre>GridSearchCV(cv=5, estimator=RandomForestRegressor(), n_jobs=-2,\n",
              "             param_grid={&#x27;max_depth&#x27;: [1, 2, 3, 4, 5, 6],\n",
              "                         &#x27;min_samples_split&#x27;: [1, 2, 3],\n",
              "                         &#x27;n_estimators&#x27;: [1, 5, 10, 15]},\n",
              "             return_train_score=True, verbose=3)</pre><b>In a Jupyter environment, please rerun this cell to show the HTML representation or trust the notebook. <br />On GitHub, the HTML representation is unable to render, please try loading this page with nbviewer.org.</b></div><div class=\"sk-container\" hidden><div class=\"sk-item sk-dashed-wrapped\"><div class=\"sk-label-container\"><div class=\"sk-label sk-toggleable\"><input class=\"sk-toggleable__control sk-hidden--visually\" id=\"sk-estimator-id-10\" type=\"checkbox\" ><label for=\"sk-estimator-id-10\" class=\"sk-toggleable__label sk-toggleable__label-arrow\">GridSearchCV</label><div class=\"sk-toggleable__content\"><pre>GridSearchCV(cv=5, estimator=RandomForestRegressor(), n_jobs=-2,\n",
              "             param_grid={&#x27;max_depth&#x27;: [1, 2, 3, 4, 5, 6],\n",
              "                         &#x27;min_samples_split&#x27;: [1, 2, 3],\n",
              "                         &#x27;n_estimators&#x27;: [1, 5, 10, 15]},\n",
              "             return_train_score=True, verbose=3)</pre></div></div></div><div class=\"sk-parallel\"><div class=\"sk-parallel-item\"><div class=\"sk-item\"><div class=\"sk-label-container\"><div class=\"sk-label sk-toggleable\"><input class=\"sk-toggleable__control sk-hidden--visually\" id=\"sk-estimator-id-11\" type=\"checkbox\" ><label for=\"sk-estimator-id-11\" class=\"sk-toggleable__label sk-toggleable__label-arrow\">estimator: RandomForestRegressor</label><div class=\"sk-toggleable__content\"><pre>RandomForestRegressor()</pre></div></div></div><div class=\"sk-serial\"><div class=\"sk-item\"><div class=\"sk-estimator sk-toggleable\"><input class=\"sk-toggleable__control sk-hidden--visually\" id=\"sk-estimator-id-12\" type=\"checkbox\" ><label for=\"sk-estimator-id-12\" class=\"sk-toggleable__label sk-toggleable__label-arrow\">RandomForestRegressor</label><div class=\"sk-toggleable__content\"><pre>RandomForestRegressor()</pre></div></div></div></div></div></div></div></div></div></div>"
            ]
          },
          "metadata": {},
          "execution_count": 53
        }
      ],
      "source": [
        "# Perform grid search to find the best hyperparameters. This could take a while.\n",
        "# import multiprocessing\n",
        "\n",
        "# cores = multiprocessing.cpu_count() # Count the number of cores in a computer\n",
        "# cores\n",
        "\n",
        "grid = GridSearchCV(RandomForestRegressor(), params, n_jobs=2, cv=5, verbose=3, return_train_score=True)\n",
        "grid.fit(X_train, y_train)"
      ]
    },
    {
      "cell_type": "code",
      "source": [
        "# Get the best model and its parameters.\n",
        "print(\"Best model is: \", grid.best_estimator_)\n",
        "print(\"Best parameters are: \", grid.best_params_)"
      ],
      "metadata": {
        "id": "_JO-wsm7a58f",
        "outputId": "30132ae5-331c-4c40-b068-df032be64dec",
        "colab": {
          "base_uri": "https://localhost:8080/"
        }
      },
      "execution_count": 54,
      "outputs": [
        {
          "output_type": "stream",
          "name": "stdout",
          "text": [
            "Best model is:  RandomForestRegressor(max_depth=2, n_estimators=1)\n",
            "Best parameters are:  {'max_depth': 2, 'min_samples_split': 2, 'n_estimators': 1}\n"
          ]
        }
      ]
    },
    {
      "cell_type": "code",
      "execution_count": 55,
      "metadata": {
        "colab": {
          "base_uri": "https://localhost:8080/",
          "height": 75
        },
        "id": "W7ier_bt23RS",
        "outputId": "d46107ac-407a-4fde-df4f-c5418b6bd2c7"
      },
      "outputs": [
        {
          "output_type": "execute_result",
          "data": {
            "text/plain": [
              "RandomForestRegressor(max_depth=2, n_estimators=1)"
            ],
            "text/html": [
              "<style>#sk-container-id-5 {color: black;background-color: white;}#sk-container-id-5 pre{padding: 0;}#sk-container-id-5 div.sk-toggleable {background-color: white;}#sk-container-id-5 label.sk-toggleable__label {cursor: pointer;display: block;width: 100%;margin-bottom: 0;padding: 0.3em;box-sizing: border-box;text-align: center;}#sk-container-id-5 label.sk-toggleable__label-arrow:before {content: \"▸\";float: left;margin-right: 0.25em;color: #696969;}#sk-container-id-5 label.sk-toggleable__label-arrow:hover:before {color: black;}#sk-container-id-5 div.sk-estimator:hover label.sk-toggleable__label-arrow:before {color: black;}#sk-container-id-5 div.sk-toggleable__content {max-height: 0;max-width: 0;overflow: hidden;text-align: left;background-color: #f0f8ff;}#sk-container-id-5 div.sk-toggleable__content pre {margin: 0.2em;color: black;border-radius: 0.25em;background-color: #f0f8ff;}#sk-container-id-5 input.sk-toggleable__control:checked~div.sk-toggleable__content {max-height: 200px;max-width: 100%;overflow: auto;}#sk-container-id-5 input.sk-toggleable__control:checked~label.sk-toggleable__label-arrow:before {content: \"▾\";}#sk-container-id-5 div.sk-estimator input.sk-toggleable__control:checked~label.sk-toggleable__label {background-color: #d4ebff;}#sk-container-id-5 div.sk-label input.sk-toggleable__control:checked~label.sk-toggleable__label {background-color: #d4ebff;}#sk-container-id-5 input.sk-hidden--visually {border: 0;clip: rect(1px 1px 1px 1px);clip: rect(1px, 1px, 1px, 1px);height: 1px;margin: -1px;overflow: hidden;padding: 0;position: absolute;width: 1px;}#sk-container-id-5 div.sk-estimator {font-family: monospace;background-color: #f0f8ff;border: 1px dotted black;border-radius: 0.25em;box-sizing: border-box;margin-bottom: 0.5em;}#sk-container-id-5 div.sk-estimator:hover {background-color: #d4ebff;}#sk-container-id-5 div.sk-parallel-item::after {content: \"\";width: 100%;border-bottom: 1px solid gray;flex-grow: 1;}#sk-container-id-5 div.sk-label:hover label.sk-toggleable__label {background-color: #d4ebff;}#sk-container-id-5 div.sk-serial::before {content: \"\";position: absolute;border-left: 1px solid gray;box-sizing: border-box;top: 0;bottom: 0;left: 50%;z-index: 0;}#sk-container-id-5 div.sk-serial {display: flex;flex-direction: column;align-items: center;background-color: white;padding-right: 0.2em;padding-left: 0.2em;position: relative;}#sk-container-id-5 div.sk-item {position: relative;z-index: 1;}#sk-container-id-5 div.sk-parallel {display: flex;align-items: stretch;justify-content: center;background-color: white;position: relative;}#sk-container-id-5 div.sk-item::before, #sk-container-id-5 div.sk-parallel-item::before {content: \"\";position: absolute;border-left: 1px solid gray;box-sizing: border-box;top: 0;bottom: 0;left: 50%;z-index: -1;}#sk-container-id-5 div.sk-parallel-item {display: flex;flex-direction: column;z-index: 1;position: relative;background-color: white;}#sk-container-id-5 div.sk-parallel-item:first-child::after {align-self: flex-end;width: 50%;}#sk-container-id-5 div.sk-parallel-item:last-child::after {align-self: flex-start;width: 50%;}#sk-container-id-5 div.sk-parallel-item:only-child::after {width: 0;}#sk-container-id-5 div.sk-dashed-wrapped {border: 1px dashed gray;margin: 0 0.4em 0.5em 0.4em;box-sizing: border-box;padding-bottom: 0.4em;background-color: white;}#sk-container-id-5 div.sk-label label {font-family: monospace;font-weight: bold;display: inline-block;line-height: 1.2em;}#sk-container-id-5 div.sk-label-container {text-align: center;}#sk-container-id-5 div.sk-container {/* jupyter's `normalize.less` sets `[hidden] { display: none; }` but bootstrap.min.css set `[hidden] { display: none !important; }` so we also need the `!important` here to be able to override the default hidden behavior on the sphinx rendered scikit-learn.org. See: https://github.com/scikit-learn/scikit-learn/issues/21755 */display: inline-block !important;position: relative;}#sk-container-id-5 div.sk-text-repr-fallback {display: none;}</style><div id=\"sk-container-id-5\" class=\"sk-top-container\"><div class=\"sk-text-repr-fallback\"><pre>RandomForestRegressor(max_depth=2, n_estimators=1)</pre><b>In a Jupyter environment, please rerun this cell to show the HTML representation or trust the notebook. <br />On GitHub, the HTML representation is unable to render, please try loading this page with nbviewer.org.</b></div><div class=\"sk-container\" hidden><div class=\"sk-item\"><div class=\"sk-estimator sk-toggleable\"><input class=\"sk-toggleable__control sk-hidden--visually\" id=\"sk-estimator-id-13\" type=\"checkbox\" checked><label for=\"sk-estimator-id-13\" class=\"sk-toggleable__label sk-toggleable__label-arrow\">RandomForestRegressor</label><div class=\"sk-toggleable__content\"><pre>RandomForestRegressor(max_depth=2, n_estimators=1)</pre></div></div></div></div></div>"
            ]
          },
          "metadata": {},
          "execution_count": 55
        }
      ],
      "source": [
        "# Fit the best classifier on the training data.\n",
        "grid.best_estimator_.fit(X_train, y_train)"
      ]
    },
    {
      "cell_type": "code",
      "execution_count": 56,
      "metadata": {
        "colab": {
          "base_uri": "https://localhost:8080/"
        },
        "id": "ZHPrwD41tq13",
        "outputId": "e1eedb79-dab7-44b8-d1ba-feb75c51cdad"
      },
      "outputs": [
        {
          "output_type": "execute_result",
          "data": {
            "text/plain": [
              "3.8782856009802154"
            ]
          },
          "metadata": {},
          "execution_count": 56
        }
      ],
      "source": [
        "# Make predictions on the test data\n",
        "y_pred = grid.best_estimator_.predict(X_test)\n",
        "mean_absolute_error(y_test, y_pred)"
      ]
    }
  ],
  "metadata": {
    "colab": {
      "provenance": [],
      "include_colab_link": true
    },
    "kernelspec": {
      "display_name": "Python 3",
      "name": "python3"
    },
    "language_info": {
      "name": "python"
    }
  },
  "nbformat": 4,
  "nbformat_minor": 0
}