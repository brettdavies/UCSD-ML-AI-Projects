{
  "cells": [
    {
      "cell_type": "markdown",
      "metadata": {
        "id": "view-in-github",
        "colab_type": "text"
      },
      "source": [
        "<a href=\"https://colab.research.google.com/github/brettdavies/UCSD-ML-AI-Projects/blob/main/Student_MLE_MiniProject_Recommendation_Engines.ipynb\" target=\"_parent\"><img src=\"https://colab.research.google.com/assets/colab-badge.svg\" alt=\"Open In Colab\"/></a>"      ]
    },
    {
      "cell_type": "markdown",
      "metadata": {
        "id": "fyXucUekO19i"
      },
      "source": [
        "# Mini Project: Recommendation Engines\n",
        "\n",
        "Recommendation engines are algorithms designed to provide personalized suggestions or recommendations to users. These systems analyze user behavior, preferences, and interactions with items (products, movies, music, articles, etc.) to predict and offer items that users are likely to be interested in. Recommendation engines play a crucial role in enhancing user experience, driving engagement, and increasing conversion rates in various applications, including e-commerce, entertainment, content platforms, and more.\n",
        "\n",
        "There are generally two approaches taken in collaborative filtering and content-based recommendation engines:\n",
        "\n",
        "**1. Collaborative Filtering:**\n",
        "Collaborative Filtering is a popular approach to building recommendation systems that leverages the collective behavior of users to make personalized recommendations. It is based on the idea that users who have agreed in the past will likely agree in the future. There are two main types of collaborative filtering:\n",
        "\n",
        "- **User-based Collaborative Filtering:** This method finds users similar to the target user based on their past interactions (e.g., ratings or purchases). It then recommends items that similar users have liked but the target user has not interacted with yet.\n",
        "\n",
        "- **Item-based Collaborative Filtering:** In this approach, the system identifies similar items based on user interactions. It recommends items that are similar to the ones the target user has already liked or interacted with.\n",
        "\n",
        "Collaborative filtering does not require any explicit information about items but relies on the similarity between users or items. It is effective in capturing complex patterns and can provide serendipitous recommendations. However, it suffers from the cold-start problem (i.e., difficulty in recommending to new users or items with no interactions) and scalability challenges in large datasets.\n",
        "\n",
        "**2. Content-Based Recommendation:**\n",
        "Content-based recommendation is an alternative approach to building recommendation systems that focuses on the attributes or features of items and users. It leverages the characteristics of items to make recommendations. The key steps involved in content-based recommendation are:\n",
        "\n",
        "- **Feature Extraction:** For each item, relevant features are extracted. For movies, these features could be genre, director, actors, and plot summary.\n",
        "\n",
        "- **User Profile:** A user profile is created based on the items they have interacted with in the past. The user profile contains the weighted importance of features based on their interactions.\n",
        "\n",
        "- **Similarity Calculation:** The similarity between items or between items and the user profile is calculated using similarity metrics like cosine similarity or Euclidean distance.\n",
        "\n",
        "- **Recommendation:** Items that are most similar to the user profile are recommended to the user.\n",
        "\n",
        "Content-based recommendation systems are less affected by the cold-start problem as they can still recommend items based on their features. They are also more interpretable as they rely on item attributes. However, they may miss out on providing serendipitous recommendations and can be limited by the quality of feature extraction and user profiles.\n",
        "\n",
        "**Choosing Between Collaborative Filtering and Content-Based:**\n",
        "Both collaborative filtering and content-based approaches have their strengths and weaknesses. The choice between them depends on the specific requirements of the recommendation system, the type of data available, and the user base. Hybrid approaches that combine collaborative filtering and content-based techniques are also common, aiming to leverage the strengths of both methods and mitigate their weaknesses."
      ]
    },
    {
      "cell_type": "markdown",
      "metadata": {
        "id": "TYuE9O6I2uRY"
      },
      "source": [
        "In this mini-project, you'll be building both content based and collaborative filtering engines for the [MovieLens 25M dataset](https://grouplens.org/datasets/movielens/25m/). The MovieLens 25M dataset is one of the most widely used and popular datasets for building and evaluating recommendation systems. It is provided by the GroupLens Research project, which collects and studies datasets related to movie ratings and recommendations. The MovieLens 25M dataset contains movie ratings and other related information contributed by users of the MovieLens website.\n",
        "\n",
        "**Dataset Details:**\n",
        "- **Size:** The dataset contains approximately 25 million movie ratings.\n",
        "- **Users:** It includes ratings from over 162,000 users.\n",
        "- **Movies:** The dataset consists of ratings for more than 62,000 movies.\n",
        "- **Ratings:** The ratings are provided on a scale of 1 to 5, where 1 is the lowest rating and 5 is the highest.\n",
        "- **Timestamps:** Each rating is associated with a timestamp, indicating when the rating was given.\n",
        "\n",
        "**Data Files:**\n",
        "The dataset is usually split into three CSV files:\n",
        "\n",
        "1. **movies.csv:** Contains information about movies, including the movie ID, title, genres, and release year.\n",
        "   - Columns: movieId, title, genres\n",
        "\n",
        "2. **ratings.csv:** Contains movie ratings provided by users, including the user ID, movie ID, rating, and timestamp.\n",
        "   - Columns: userId, movieId, rating, timestamp\n",
        "\n",
        "3. **tags.csv:** Contains user-generated tags for movies, including the user ID, movie ID, tag, and timestamp.\n",
        "   - Columns: userId, movieId, tag, timestamp"
      ]
    },
    {
      "cell_type": "markdown",
      "metadata": {
        "id": "DN0qzP-cRlMo"
      },
      "source": [
        "First, import all the libraries you'll need."
      ]
    },
    {
      "cell_type": "code",
      "execution_count": 58,
      "metadata": {
        "id": "kLWR1DfQPakn"
      },
      "outputs": [],
      "source": [
        "import zipfile\n",
        "import numpy as np\n",
        "import pandas as pd\n",
        "from urllib.request import urlretrieve\n",
        "from sklearn.metrics.pairwise import cosine_similarity"
      ]
    },
    {
      "cell_type": "markdown",
      "metadata": {
        "id": "iaG6vAKyREej"
      },
      "source": [
        "Next, download the relevant components of the MoveLens dataset. Note, these instructions are roughly based on the colab [here](https://colab.research.google.com/github/google/eng-edu/blob/main/ml/recommendation-systems/recommendation-systems.ipynb?utm_source=ss-recommendation-systems&utm_campaign=colab-external&utm_medium=referral&utm_content=recommendation-systems#scrollTo=O3bcgduFo4s6)."
      ]
    },
    {
      "cell_type": "code",
      "execution_count": 59,
      "metadata": {
        "id": "-wCvx2ukPm-3"
      },
      "outputs": [
        {
          "name": "stdout",
          "output_type": "stream",
          "text": [
            "Downloading movielens data...\n",
            "Done. Dataset contains:\n",
            "b'943 users\\n1682 items\\n100000 ratings\\n'\n"
          ]
        }
      ],
      "source": [
        "print(\"Downloading movielens data...\")\n",
        "\n",
        "urlretrieve('http://files.grouplens.org/datasets/movielens/ml-100k.zip', 'movielens.zip')\n",
        "zip_ref = zipfile.ZipFile('movielens.zip', 'r')\n",
        "zip_ref.extractall()\n",
        "print(\"Done. Dataset contains:\")\n",
        "print(zip_ref.read('ml-100k/u.info'))\n",
        "\n",
        "ratings_cols = ['user_id', 'movie_id', 'rating', 'unix_timestamp']\n",
        "ratings = pd.read_csv(\n",
        "    'ml-100k/u.data', sep='\\t', names=ratings_cols, encoding='latin-1')\n",
        "\n",
        "# The movies file contains a binary feature for each genre.\n",
        "genre_cols = [\n",
        "    \"genre_unknown\", \"Action\", \"Adventure\", \"Animation\", \"Children\", \"Comedy\",\n",
        "    \"Crime\", \"Documentary\", \"Drama\", \"Fantasy\", \"Film-Noir\", \"Horror\",\n",
        "    \"Musical\", \"Mystery\", \"Romance\", \"Sci-Fi\", \"Thriller\", \"War\", \"Western\"\n",
        "]\n",
        "movies_cols = [\n",
        "    'movie_id', 'title', 'release_date', \"video_release_date\", \"imdb_url\"\n",
        "] + genre_cols\n",
        "movies = pd.read_csv(\n",
        "    'ml-100k/u.item', sep='|', names=movies_cols, encoding='latin-1')"
      ]
    },
    {
      "cell_type": "markdown",
      "metadata": {
        "id": "pLAMVhnbR-Cy"
      },
      "source": [
        "Before doing any kind of machine learning, it's always good to familiarize yourself with the datasets you'lll be working with.\n",
        "\n",
        "Here are your tasks:\n",
        "\n",
        "1. Spend some time familiarizing yourself with both the `movies` and `ratings` dataframes. How many unique user ids are present? How many unique movies are there?\n",
        "2. Create a new dataframe that merges the `movies` and `ratings` tables on 'movie_id'. Only keep the 'user_id', 'title', 'rating' fields in this new dataframe."
      ]
    },
    {
      "cell_type": "code",
      "execution_count": 60,
      "metadata": {
        "id": "vp7Tx7H_P5f2"
      },
      "outputs": [
        {
          "name": "stdout",
          "output_type": "stream",
          "text": [
            "   movie_id              title release_date  video_release_date  \\\n",
            "0         1   Toy Story (1995)  01-Jan-1995                 NaN   \n",
            "1         2   GoldenEye (1995)  01-Jan-1995                 NaN   \n",
            "2         3  Four Rooms (1995)  01-Jan-1995                 NaN   \n",
            "3         4  Get Shorty (1995)  01-Jan-1995                 NaN   \n",
            "4         5     Copycat (1995)  01-Jan-1995                 NaN   \n",
            "\n",
            "                                            imdb_url  genre_unknown  Action  \\\n",
            "0  http://us.imdb.com/M/title-exact?Toy%20Story%2...              0       0   \n",
            "1  http://us.imdb.com/M/title-exact?GoldenEye%20(...              0       1   \n",
            "2  http://us.imdb.com/M/title-exact?Four%20Rooms%...              0       0   \n",
            "3  http://us.imdb.com/M/title-exact?Get%20Shorty%...              0       1   \n",
            "4  http://us.imdb.com/M/title-exact?Copycat%20(1995)              0       0   \n",
            "\n",
            "   Adventure  Animation  Children  ...  Fantasy  Film-Noir  Horror  Musical  \\\n",
            "0          0          1         1  ...        0          0       0        0   \n",
            "1          1          0         0  ...        0          0       0        0   \n",
            "2          0          0         0  ...        0          0       0        0   \n",
            "3          0          0         0  ...        0          0       0        0   \n",
            "4          0          0         0  ...        0          0       0        0   \n",
            "\n",
            "   Mystery  Romance  Sci-Fi  Thriller  War  Western  \n",
            "0        0        0       0         0    0        0  \n",
            "1        0        0       0         1    0        0  \n",
            "2        0        0       0         1    0        0  \n",
            "3        0        0       0         0    0        0  \n",
            "4        0        0       0         1    0        0  \n",
            "\n",
            "[5 rows x 24 columns]\n",
            "   user_id  movie_id  rating  unix_timestamp\n",
            "0      196       242       3       881250949\n",
            "1      186       302       3       891717742\n",
            "2       22       377       1       878887116\n",
            "3      244        51       2       880606923\n",
            "4      166       346       1       886397596\n"
          ]
        },
        {
          "data": {
            "text/plain": [
              "user_id             943\n",
              "movie_id           1682\n",
              "rating                5\n",
              "unix_timestamp    49282\n",
              "dtype: int64"
            ]
          },
          "execution_count": 60,
          "metadata": {},
          "output_type": "execute_result"
        }
      ],
      "source": [
        "# Spend some time familiarizing yourself with both the movies and ratings\n",
        "# dataframes. How many unique user ids are present? How many unique movies\n",
        "# are there?\n",
        "print(movies.head())\n",
        "movies.shape\n",
        "movies.nunique()\n",
        "\n",
        "print(ratings.head())\n",
        "ratings.shape\n",
        "ratings.nunique()\n"
      ]
    },
    {
      "cell_type": "code",
      "execution_count": 61,
      "metadata": {
        "id": "f6MrymMJRMjB"
      },
      "outputs": [
        {
          "data": {
            "text/html": [
              "<div>\n",
              "<style scoped>\n",
              "    .dataframe tbody tr th:only-of-type {\n",
              "        vertical-align: middle;\n",
              "    }\n",
              "\n",
              "    .dataframe tbody tr th {\n",
              "        vertical-align: top;\n",
              "    }\n",
              "\n",
              "    .dataframe thead th {\n",
              "        text-align: right;\n",
              "    }\n",
              "</style>\n",
              "<table border=\"1\" class=\"dataframe\">\n",
              "  <thead>\n",
              "    <tr style=\"text-align: right;\">\n",
              "      <th></th>\n",
              "      <th>user_id</th>\n",
              "      <th>title</th>\n",
              "      <th>rating</th>\n",
              "    </tr>\n",
              "  </thead>\n",
              "  <tbody>\n",
              "    <tr>\n",
              "      <th>0</th>\n",
              "      <td>196</td>\n",
              "      <td>Kolya (1996)</td>\n",
              "      <td>3</td>\n",
              "    </tr>\n",
              "    <tr>\n",
              "      <th>1</th>\n",
              "      <td>186</td>\n",
              "      <td>L.A. Confidential (1997)</td>\n",
              "      <td>3</td>\n",
              "    </tr>\n",
              "    <tr>\n",
              "      <th>2</th>\n",
              "      <td>22</td>\n",
              "      <td>Heavyweights (1994)</td>\n",
              "      <td>1</td>\n",
              "    </tr>\n",
              "    <tr>\n",
              "      <th>3</th>\n",
              "      <td>244</td>\n",
              "      <td>Legends of the Fall (1994)</td>\n",
              "      <td>2</td>\n",
              "    </tr>\n",
              "    <tr>\n",
              "      <th>4</th>\n",
              "      <td>166</td>\n",
              "      <td>Jackie Brown (1997)</td>\n",
              "      <td>1</td>\n",
              "    </tr>\n",
              "  </tbody>\n",
              "</table>\n",
              "</div>"
            ],
            "text/plain": [
              "   user_id                       title  rating\n",
              "0      196                Kolya (1996)       3\n",
              "1      186    L.A. Confidential (1997)       3\n",
              "2       22         Heavyweights (1994)       1\n",
              "3      244  Legends of the Fall (1994)       2\n",
              "4      166         Jackie Brown (1997)       1"
            ]
          },
          "execution_count": 61,
          "metadata": {},
          "output_type": "execute_result"
        }
      ],
      "source": [
        "# Merge movies and ratings dataframes\n",
        "merged_df = pd.merge(ratings, movies, on=[\"movie_id\"])[['user_id', 'title', 'rating']]\n",
        "merged_df.drop_duplicates(keep=False, inplace=True)\n",
        "merged_df.head()"
      ]
    },
    {
      "cell_type": "markdown",
      "metadata": {
        "id": "_U44W0TMT3qf"
      },
      "source": [
        "As mentioned in the introduction, content-Based Filtering is a recommendation engine approach that focuses on the attributes or features of items (products, movies, music, articles, etc.) and leverages these features to make personalized recommendations. The underlying idea is to match the characteristics of items with the preferences of users to suggest items that align with their interests. Content-based filtering is particularly useful when explicit user-item interactions (e.g., ratings or purchases) are sparse or unavailable.\n",
        "\n",
        "**Key Steps in Content-Based Filtering:**\n",
        "\n",
        "1. **Feature Extraction:**\n",
        "   - For each item, relevant features are extracted. These features are typically descriptive attributes that can be represented numerically, such as genre, director, actors, author, publication date, and keywords.\n",
        "   - In the case of text-based items, natural language processing techniques may be used to extract features like TF-IDF (Term Frequency-Inverse Document Frequency) scores.\n",
        "\n",
        "2. **User Profile Creation:**\n",
        "   - A user profile is created based on the items they have interacted with in the past. The user profile contains the weighted importance of features based on their interactions.\n",
        "   - For example, if a user has watched several action movies, the action genre feature would receive a higher weight in their profile.\n",
        "\n",
        "3. **Similarity Calculation:**\n",
        "   - The similarity between items or between items and the user profile is calculated using similarity metrics like cosine similarity, Euclidean distance, or Pearson correlation.\n",
        "   - Cosine similarity is commonly used as it measures the cosine of the angle between two vectors, which represents their similarity.\n",
        "\n",
        "4. **Recommendation:**\n",
        "   - Items that are most similar to the user profile are recommended to the user. These are items whose features have the highest similarity scores with the user profile.\n",
        "   - The recommended items are presented as a list sorted by their similarity scores.\n",
        "\n",
        "**Advantages of Content-Based Filtering:**\n",
        "1. **No Cold-Start Problem:** Content-based filtering can make recommendations even for new users with no historical interactions because it relies on item features rather than user history.\n",
        "\n",
        "2. **User Independence:** The recommendations are based solely on the features of items and do not require knowledge of other users' preferences or behavior.\n",
        "\n",
        "3. **Transparency:** Content-based recommendations are interpretable, as they depend on the features of items, making it easier for users to understand why specific items are recommended.\n",
        "\n",
        "4. **Serendipity:** Content-based filtering can recommend items with characteristics not seen before by the user, leading to serendipitous discoveries.\n",
        "\n",
        "5. **Diversity in Recommendations:** The method can offer diverse recommendations since it suggests items with different feature combinations.\n",
        "\n",
        "**Limitations of Content-Based Filtering:**\n",
        "1. **Limited Discovery:** Content-based filtering may struggle to recommend items outside the scope of users' historical interactions or interests.\n",
        "\n",
        "2. **Over-Specialization:** Users may receive recommendations that are too similar to their previous choices, leading to a lack of exposure to new item categories.\n",
        "\n",
        "3. **Dependency on Feature Quality:** The quality and relevance of item features significantly influence the quality of recommendations.\n",
        "\n",
        "4. **Limited for Cold Items:** Content-based filtering can struggle to recommend new items with limited feature information."
      ]
    },
    {
      "cell_type": "markdown",
      "metadata": {
        "id": "sbJGD7j7Ui-8"
      },
      "source": [
        "Here is your task:\n",
        "\n",
        "1. Write a function that takes in a user id and the dataframe you created before that contains 'user_id', 'title', and 'rating'. The function should return content-based recommendations for this user. Here are steps you can take:\n",
        "\n",
        "  A. Get the user's rated movies\n",
        "\n",
        "  B. Create a TF-IDF matrix using movie genres. Note, this can be extracted from the `movies` dataframe.\n",
        "\n",
        "  C. Compute the cosine similarity between movie genres. Use the [cosine_similarity](https://scikit-learn.org/stable/modules/generated/sklearn.metrics.pairwise.cosine_similarity.html) function.\n",
        "\n",
        "  D. Get the indices of similar movies to those rated by the user based on cosine similarity. Keep only the top 5.\n",
        "\n",
        "  E. Remove duplicates and movies already rated by the user."
      ]
    },
    {
      "cell_type": "code",
      "execution_count": 67,
      "metadata": {
        "id": "JwBQSC-POTzn"
      },
      "outputs": [],
      "source": [
        "# from sklearn.feature_extraction.text import TfidfVectorizer\n",
        "# tfidfvec = TfidfVectorizer(min_df=2, max_df=0.7)\n",
        "\n",
        "\n",
        "# Content-Based Filtering using Movie Genres\n",
        "def content_based_recommendation(user_id:int, df, closestN:int):\n",
        "  # Get the user's rated movies\n",
        "  usr_rated_movies = merged_df[merged_df[\"user_id\"] == user_id]\n",
        "  usr_rated_movies_list = usr_rated_movies['title'].values.tolist()\n",
        "\n",
        "  # Create a TF-IDF matrix using movie genres\n",
        "  unique_movies = movies.drop_duplicates(subset = 'title')\n",
        "  movie_genres_df = unique_movies[genre_cols]\n",
        "  movie_genres_df.index = unique_movies['title']\n",
        "  # print(movie_genres_df)\n",
        "\n",
        "  # Create user movies and other movies dataframes\n",
        "  usr_movies_df = movie_genres_df.reindex(usr_rated_movies_list)\n",
        "  # print(usr_movies_df)\n",
        "  usr_pref = usr_movies_df.mean()\n",
        "  # print(usr_pref)\n",
        "\n",
        "  # Drop movies that the user has rated\n",
        "  not_usr_movies_df = movie_genres_df.drop(usr_rated_movies_list, axis=0)\n",
        "\n",
        "  # Compute the cosine similarity between movie genres\n",
        "  similarity_array = cosine_similarity(usr_pref.values.reshape(1, -1), not_usr_movies_df)\n",
        "  similarity_df = pd.DataFrame(similarity_array.T, index=not_usr_movies_df.index, columns=[\"similarity_score\"])\n",
        "  sorted_similarity_df = similarity_df.sort_values(by=\"similarity_score\", ascending=False)\n",
        "\n",
        "  return(sorted_similarity_df).head(closestN)\n",
        "\n",
        "# content_based_recommendation(1, merged_df, 7)"
      ]
    },
    {
      "cell_type": "markdown",
      "metadata": {
        "id": "2NNt3gHLYDxU"
      },
      "source": [
        "The key idea behind collaborative filtering is that users who have agreed in the past will likely agree in the future. Instead of relying on item attributes or user profiles, collaborative filtering identifies patterns of user behavior and item preferences from the interactions present in the data.\n",
        "\n",
        "**Types of Collaborative Filtering:**\n",
        "There are two main types of collaborative filtering:\n",
        "\n",
        "**Collaborative Filtering Process:**\n",
        "The collaborative filtering process typically involves the following steps:\n",
        "\n",
        "1. **Data Collection:**\n",
        "   - Gather data on user-item interactions, such as movie ratings, product purchases, or article clicks.\n",
        "\n",
        "2. **User-Item Matrix:**\n",
        "   - Organize the data into a user-item matrix, where rows represent users, columns represent items, and the entries contain the users' interactions (e.g., ratings).\n",
        "\n",
        "3. **Similarity Calculation:**\n",
        "   - Calculate the similarity between users or items using similarity metrics such as cosine similarity, Pearson correlation, or Jaccard similarity.\n",
        "   - For user-based collaborative filtering, user similarities are calculated, and for item-based collaborative filtering, item similarities are calculated.\n",
        "\n",
        "4. **Neighborhood Selection:**\n",
        "   - For each user or item, select the most similar users or items as the neighborhood.\n",
        "   - The size of the neighborhood (the number of similar users or items to consider) is an important parameter to control the system's behavior.\n",
        "\n",
        "5. **Prediction Generation:**\n",
        "   - Predict the ratings for items that the target user has not yet interacted with by combining the ratings of neighboring users or items.\n",
        "\n",
        "6. **Recommendation Generation:**\n",
        "   - Recommend items with the highest predicted ratings to the target user.\n",
        "\n",
        "**Advantages of Collaborative Filtering using User-Item Interactions:**\n",
        "- Collaborative filtering is based solely on user interactions and does not require knowledge of item attributes, making it useful for cases where item data is sparse or unavailable.\n",
        "- It can provide serendipitous recommendations, suggesting items that users may not have discovered on their own.\n",
        "- Collaborative filtering can be applied in various domains, including e-commerce, music, movie, and content recommendations.\n",
        "\n",
        "**Limitations of Collaborative Filtering:**\n",
        "- The cold-start problem: Collaborative filtering struggles to recommend to new users or items with no or limited interaction history.\n",
        "- It may suffer from sparsity when data is limited or when users have only interacted with a small subset of items.\n",
        "- Scalability issues can arise with large datasets and an increasing number of users or items."
      ]
    },
    {
      "cell_type": "markdown",
      "metadata": {
        "id": "ks4mWyCaYVNY"
      },
      "source": [
        "Here is your task:\n",
        "\n",
        "1. Write a function that takes in a user id and the dataframe you created before that contains 'user_id', 'title', and 'rating'. The function should return collaborative filtering recommendations for this user based on a user-item interaction matrix. Here are steps you can take:\n",
        "\n",
        "  A. Create the user-item matrix using Pandas' [pivot_table](https://pandas.pydata.org/docs/reference/api/pandas.pivot_table.html).\n",
        "\n",
        "  B. Fill missing values with zeros in this matrix.\n",
        "\n",
        "  C. Calculate user-user similarity matrix using cosine similarity.\n",
        "\n",
        "  D. Get the array of similarity scores of the target user with all other users from the similarity matrix.\n",
        "\n",
        "  E. Extract, say the the top 5 most similar users (excluding the target user).\n",
        "\n",
        "  F. Generate movie recommendations based on the most similar users.\n",
        "\n",
        "  G. Remove duplicate movies recommendations."
      ]
    },
    {
      "cell_type": "code",
      "execution_count": 68,
      "metadata": {
        "id": "BqZPgKRDWf-c"
      },
      "outputs": [],
      "source": [
        "# Collaborative Filtering using User-Item Interactions\n",
        "def collaborative_filtering_recommendation(usrId:int, merged_df, closestN:int):\n",
        "  # Create the user-item matrix\n",
        "  usr_ratings_table = pd.pivot_table(merged_df, index='user_id', columns='title', values='rating')\n",
        "  # print(usr_ratings_table)\n",
        "\n",
        "  # Fill missing values with 0 (indicating no rating)\n",
        "  avg_ratings = usr_ratings_table.mean(axis=1)\n",
        "  usr_ratings_table_centered = usr_ratings_table.sub(avg_ratings, axis=0)\n",
        "  # print(usr_ratings_table)\n",
        "  usr_ratings_table_centered.fillna(0, inplace=True)\n",
        "  # print(usr_ratings_table)\n",
        "\n",
        "  # Calculate user-user similarity matrix using cosine similarity\n",
        "  similarities = cosine_similarity(usr_ratings_table_centered)\n",
        "  cosine_similarity_df = pd.DataFrame(\n",
        "      similarities,\n",
        "      index=usr_ratings_table_centered.index,\n",
        "      columns=usr_ratings_table_centered.index\n",
        "  )\n",
        "  # print(cosine_similarity_df)\n",
        "\n",
        "  # Get the similarity scores of the target user with all other users\n",
        "  usr_similarity_series = cosine_similarity_df.loc[usrId]\n",
        "  ordered_similarities = usr_similarity_series.sort_values(ascending=False)  \n",
        "  # print(ordered_similarities)\n",
        "\n",
        "  # Find the top N most similar users (excluding the target user)\n",
        "  similar_neighbors = ordered_similarities[1:closestN+1].index\n",
        "  # print(similar_neighbors)\n",
        "\n",
        "  # Generate movie recommendations based on the most similar users\n",
        "  similar_neighbors_ratings = usr_ratings_table_centered.reindex(similar_neighbors)\n",
        "  # print(similar_neighbors_ratings)\n",
        "\n",
        "  # Remove duplicates from recommendations\n",
        "  usrs_movies = merged_df[merged_df['user_id'] == usrId]\n",
        "  usrs_movies_list = usrs_movies['title'].values.tolist()\n",
        "  similar_neighbors_reccos = similar_neighbors_ratings.mean().sort_values(ascending=False).drop(usrs_movies_list, axis=0)\n",
        "  return similar_neighbors_reccos.head(closestN)\n",
        "\n",
        "# print(collaborative_filtering_recommendation(1, merged_df, 7))"
      ]
    },
    {
      "cell_type": "markdown",
      "metadata": {
        "id": "-Jj883VAZRNe"
      },
      "source": [
        "Now, test your recommendations engines! Select a few user ids and generate recommendations using both functions you've written. Are the recommendations similar? Do the recommendations make sense?"
      ]
    },
    {
      "cell_type": "code",
      "execution_count": 70,
      "metadata": {
        "id": "kt9nuOTNJXz8"
      },
      "outputs": [
        {
          "name": "stdout",
          "output_type": "stream",
          "text": [
            "user_id: 1\n",
            "                                    similarity_score\n",
            "title                                               \n",
            "Best Men (1997)                             0.785934\n",
            "House of Yes, The (1997)                    0.760354\n",
            "Reality Bites (1994)                        0.735979\n",
            "With Honors (1994)                          0.735979\n",
            "Inkwell, The (1994)                         0.735979\n",
            "Á köldum klaka (Cold Fever) (1994)          0.735979\n",
            "Stefano Quantestorie (1993)                 0.735979\n",
            "\n",
            "title\n",
            "One Flew Over the Cuckoo's Nest (1975)                        0.918092\n",
            "Schindler's List (1993)                                       0.918092\n",
            "Glory (1989)                                                  0.917513\n",
            "Close Shave, A (1995)                                         0.757656\n",
            "Shine (1996)                                                  0.691178\n",
            "To Kill a Mockingbird (1962)                                  0.558553\n",
            "Like Water For Chocolate (Como agua para chocolate) (1992)    0.548321\n",
            "dtype: float64\n",
            "\n",
            "user_id: 74\n",
            "                            similarity_score\n",
            "title                                       \n",
            "Diva (1981)                         0.822536\n",
            "Taxi Driver (1976)                  0.818861\n",
            "Firm, The (1993)                    0.818861\n",
            "Babysitter, The (1995)              0.818861\n",
            "Sling Blade (1996)                  0.818861\n",
            "Murder in the First (1995)          0.818861\n",
            "Extreme Measures (1996)             0.818861\n",
            "\n",
            "title\n",
            "English Patient, The (1996)        0.687609\n",
            "As Good As It Gets (1997)          0.248111\n",
            "Godfather, The (1972)              0.232804\n",
            "Welcome to the Dollhouse (1995)    0.232804\n",
            "Georgia (1995)                     0.232804\n",
            "Trainspotting (1996)               0.232804\n",
            "Michael Collins (1996)             0.232804\n",
            "dtype: float64\n",
            "\n",
            "user_id: 196\n",
            "                               similarity_score\n",
            "title                                          \n",
            "Paris, France (1993)                   0.885818\n",
            "Brothers McMullen, The (1995)          0.885818\n",
            "Sixth Man, The (1997)                  0.885818\n",
            "Intimate Relations (1996)              0.885818\n",
            "You So Crazy (1994)                    0.885818\n",
            "B*A*P*S (1997)                         0.885818\n",
            "Love Serenade (1996)                   0.885818\n",
            "\n",
            "title\n",
            "Titanic (1997)               0.465647\n",
            "Annie Hall (1977)            0.303978\n",
            "Mr. Holland's Opus (1995)    0.285714\n",
            "Ransom (1996)                0.285714\n",
            "Fargo (1996)                 0.243539\n",
            "Heat (1995)                  0.214286\n",
            "Boot, Das (1981)             0.203297\n",
            "dtype: float64\n",
            "\n",
            "user_id: 455\n",
            "                               similarity_score\n",
            "title                                          \n",
            "Condition Red (1995)                   0.798393\n",
            "Outbreak (1995)                        0.798393\n",
            "Smilla's Sense of Snow (1997)          0.798393\n",
            "Hostile Intentions (1994)              0.798393\n",
            "Fire Down Below (1997)                 0.798393\n",
            "Tough and Deadly (1995)                0.798393\n",
            "Mercury Rising (1998)                  0.798393\n",
            "\n",
            "title\n",
            "Indiana Jones and the Last Crusade (1989)     1.077018\n",
            "Stand by Me (1986)                            0.544815\n",
            "Gone with the Wind (1939)                     0.509977\n",
            "Field of Dreams (1989)                        0.377550\n",
            "Star Trek III: The Search for Spock (1984)    0.368148\n",
            "Groundhog Day (1993)                          0.366678\n",
            "To Kill a Mockingbird (1962)                  0.363540\n",
            "dtype: float64\n",
            "\n"
          ]
        }
      ],
      "source": [
        "# Test the recommendation engines\n",
        "usrIdList = [1, 74, 196, 455]\n",
        "closestN = 7\n",
        "\n",
        "for usrId in usrIdList:\n",
        "  print(\"user_id: \" + str(usrId))\n",
        "  print(content_based_recommendation(usrId, merged_df, closestN))\n",
        "  print(\"\")\n",
        "  print(collaborative_filtering_recommendation(usrId, merged_df, closestN))\n",
        "  print(\"\")"
      ]
    }
  ],
  "metadata": {
    "colab": {
      "provenance": []
    },
    "kernelspec": {
      "display_name": "Python 3 (ipykernel)",
      "language": "python",
      "name": "python3"
    },
    "language_info": {
      "codemirror_mode": {
        "name": "ipython",
        "version": 3
      },
      "file_extension": ".py",
      "mimetype": "text/x-python",
      "name": "python",
      "nbconvert_exporter": "python",
      "pygments_lexer": "ipython3",
      "version": "3.10.12"
    }
  },
  "nbformat": 4,
  "nbformat_minor": 0
}
